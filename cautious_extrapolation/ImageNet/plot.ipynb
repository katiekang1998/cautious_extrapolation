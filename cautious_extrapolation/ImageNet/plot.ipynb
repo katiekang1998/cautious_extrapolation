{
 "cells": [
  {
   "cell_type": "code",
   "execution_count": 1,
   "metadata": {},
   "outputs": [
    {
     "name": "stderr",
     "output_type": "stream",
     "text": [
      "/home/katie/miniconda3/envs/cifar10/lib/python3.7/site-packages/tqdm/auto.py:21: TqdmWarning: IProgress not found. Please update jupyter and ipywidgets. See https://ipywidgets.readthedocs.io/en/stable/user_install.html\n",
      "  from .autonotebook import tqdm as notebook_tqdm\n"
     ]
    }
   ],
   "source": [
    "import numpy as np\n",
    "import os\n",
    "import matplotlib.pyplot as plt\n",
    "import pickle\n",
    "from cautious_extrapolation.utils import get_imagenet_features\n",
    "from cautious_extrapolation.data_paths import DATA_PATHS\n",
    "import torch\n",
    "import torch.nn as nn\n",
    "import torch.nn.parallel\n",
    "import torch.backends.cudnn as cudnn\n",
    "import torch.optim\n",
    "import torch.utils.data\n",
    "import torchvision.transforms as transforms\n",
    "import torchvision.datasets as datasets\n",
    "from dataset import ImageNet200\n",
    "from torchvision.datasets import ImageFolder\n",
    "from sklearn.linear_model import SGDClassifier\n",
    "from sklearn.preprocessing import StandardScaler \n",
    "from sklearn.pipeline import make_pipeline"
   ]
  },
  {
   "cell_type": "code",
   "execution_count": 2,
   "metadata": {},
   "outputs": [],
   "source": [
    "\n",
    "normalize = transforms.Normalize(mean=[0.485, 0.456, 0.406],\n",
    "                                    std=[0.229, 0.224, 0.225])\n",
    "\n",
    "\n",
    "valdir = os.path.join(DATA_PATHS[\"nfs\"][\"ImageNet\"], 'val')\n",
    "val_dataset = ImageNet200(\n",
    "    valdir,\n",
    "    transforms.Compose([\n",
    "        transforms.Resize(256),\n",
    "        transforms.CenterCrop(224),\n",
    "        transforms.ToTensor(),\n",
    "        normalize,\n",
    "    ]))\n",
    "\n",
    "val_loader = torch.utils.data.DataLoader(\n",
    "    val_dataset, batch_size=64, shuffle=True,\n",
    "    num_workers=4, pin_memory=True)\n",
    "\n",
    "\n",
    "imagenet_r_dataset = ImageFolder(DATA_PATHS[\"nfs\"][\"ImageNet-R\"],\n",
    "    transforms.Compose([\n",
    "        transforms.Resize(256),\n",
    "        transforms.CenterCrop(224),\n",
    "        transforms.ToTensor(),\n",
    "        normalize,\n",
    "    ]))\n",
    "\n",
    "imagenet_r_loader = torch.utils.data.DataLoader(\n",
    "    imagenet_r_dataset,\n",
    "    batch_size=64, shuffle=True,\n",
    "    num_workers=4, pin_memory=True)\n",
    "\n",
    "\n",
    "imagenet_s_dataset = ImageNet200(\n",
    "    DATA_PATHS[\"nfs\"][\"ImageNet-S\"],\n",
    "    transforms.Compose([\n",
    "        transforms.Resize(256),\n",
    "        transforms.CenterCrop(224),\n",
    "        transforms.ToTensor(),\n",
    "        normalize,\n",
    "    ]))\n",
    "\n",
    "imagenet_s_loader = torch.utils.data.DataLoader(\n",
    "    imagenet_s_dataset,\n",
    "    batch_size=64, shuffle=True,\n",
    "    num_workers=4, pin_memory=True)\n"
   ]
  },
  {
   "cell_type": "code",
   "execution_count": 4,
   "metadata": {},
   "outputs": [
    {
     "name": "stderr",
     "output_type": "stream",
     "text": [
      "/home/katie/miniconda3/envs/cifar10/lib/python3.7/site-packages/torchvision/models/_utils.py:209: UserWarning: The parameter 'pretrained' is deprecated since 0.13 and may be removed in the future, please use 'weights' instead.\n",
      "  f\"The parameter '{pretrained_param}' is deprecated since 0.13 and may be removed in the future, \"\n",
      "/home/katie/miniconda3/envs/cifar10/lib/python3.7/site-packages/torchvision/models/_utils.py:223: UserWarning: Arguments other than a weight enum or `None` for 'weights' are deprecated since 0.13 and may be removed in the future. The current behavior is equivalent to passing `weights=ResNet18_Weights.IMAGENET1K_V1`. You can also use `weights=ResNet18_Weights.DEFAULT` to get the most up-to-date weights.\n",
      "  warnings.warn(msg)\n"
     ]
    }
   ],
   "source": [
    "val_features = get_imagenet_features(val_loader)\n",
    "idxs = np.random.permutation(val_features.shape[0])\n",
    "val_features = val_features[idxs]"
   ]
  },
  {
   "cell_type": "code",
   "execution_count": 23,
   "metadata": {},
   "outputs": [
    {
     "name": "stdout",
     "output_type": "stream",
     "text": [
      "-0.5486750572006442\n"
     ]
    }
   ],
   "source": [
    "imagenet_r_features = get_imagenet_features(imagenet_r_loader)\n",
    "idxs = np.random.permutation(imagenet_r_features.shape[0])\n",
    "imagenet_r_features = imagenet_r_features[idxs]\n",
    "\n",
    "num_points = min(val_features.shape[0], imagenet_r_features.shape[0])\n",
    "imagenet_r_features_train = imagenet_r_features[:int(0.9*num_points)]\n",
    "val_features_train = val_features[:int(0.9*num_points)]\n",
    "\n",
    "\n",
    "X = np.concatenate((val_features_train, imagenet_r_features_train), axis=0)\n",
    "y = np.concatenate((np.ones(len(val_features_train)), np.zeros(len(imagenet_r_features_train))), axis=0)\n",
    "\n",
    "scores = []\n",
    "for _ in range(10):\n",
    "    clf = make_pipeline(StandardScaler(), SGDClassifier(loss=\"log\", max_iter=20, alpha=10))\n",
    "    clf.fit(X, y)\n",
    "    score = clf.predict_log_proba(imagenet_r_features[int(0.9*num_points):])[:, 0].mean()\n",
    "    scores.append(score)\n",
    "imagenet_r_score = np.mean(scores)\n",
    "\n",
    "\n",
    "print(imagenet_r_score)"
   ]
  },
  {
   "cell_type": "code",
   "execution_count": 6,
   "metadata": {},
   "outputs": [
    {
     "name": "stderr",
     "output_type": "stream",
     "text": [
      "/home/katie/miniconda3/envs/cifar10/lib/python3.7/site-packages/torchvision/models/_utils.py:209: UserWarning: The parameter 'pretrained' is deprecated since 0.13 and may be removed in the future, please use 'weights' instead.\n",
      "  f\"The parameter '{pretrained_param}' is deprecated since 0.13 and may be removed in the future, \"\n",
      "/home/katie/miniconda3/envs/cifar10/lib/python3.7/site-packages/torchvision/models/_utils.py:223: UserWarning: Arguments other than a weight enum or `None` for 'weights' are deprecated since 0.13 and may be removed in the future. The current behavior is equivalent to passing `weights=ResNet18_Weights.IMAGENET1K_V1`. You can also use `weights=ResNet18_Weights.DEFAULT` to get the most up-to-date weights.\n",
      "  warnings.warn(msg)\n"
     ]
    },
    {
     "name": "stdout",
     "output_type": "stream",
     "text": [
      "-0.43836342003757833\n"
     ]
    }
   ],
   "source": [
    "imagenet_s_features = get_imagenet_features(imagenet_s_loader)\n",
    "idxs = np.random.permutation(imagenet_s_features.shape[0])\n",
    "imagenet_s_features = imagenet_s_features[idxs]\n",
    "\n",
    "num_points = min(val_features.shape[0], imagenet_s_features.shape[0])\n",
    "imagenet_s_features_train = imagenet_s_features[:int(0.9*num_points)]\n",
    "val_features_train = val_features[:int(0.9*num_points)]\n",
    "\n",
    "\n",
    "X = np.concatenate((val_features_train, imagenet_s_features_train), axis=0)\n",
    "y = np.concatenate((np.ones(len(val_features_train)), np.zeros(len(imagenet_s_features_train))), axis=0)\n",
    "\n",
    "scores = []\n",
    "for _ in range(10):\n",
    "    clf = make_pipeline(StandardScaler(), SGDClassifier(loss=\"log\", max_iter=20, alpha=10))\n",
    "    clf.fit(X, y)\n",
    "    score = clf.predict_log_proba(imagenet_s_features[int(0.9*num_points):])[:, 0].mean()\n",
    "    scores.append(score)\n",
    "imagenet_s_score = np.mean(scores)\n",
    "print(imagenet_s_score)"
   ]
  },
  {
   "cell_type": "code",
   "execution_count": 34,
   "metadata": {},
   "outputs": [],
   "source": [
    "f_star = [-4*199/200+1*1/200 for _ in range(200)]\n",
    "f_star.append(0)\n",
    "f_star = np.array(f_star)\n",
    "\n",
    "run_names = [\"reward_prediction_seed0_2023_06_16_13_27_08\",\n",
    "             \"reward_prediction_seed1_2023_06_21_09_58_58\",\n",
    "             \"reward_prediction_seed2_2023_06_21_21_00_20\",\n",
    "             \"reward_prediction_seed3_2023_06_22_07_56_32\",\n",
    "             \"reward_prediction_seed4_2023_06_22_23_23_39\"]\n",
    "\n",
    "train_dist_from_f_starts_all = []\n",
    "r_dist_from_f_starts_all = []\n",
    "s_dist_from_f_starts_all = []\n",
    "for run_name in run_names:\n",
    "    file = \"data/\"+run_name+\"/outputs.pkl\"\n",
    "    with open(file, \"rb\") as f:\n",
    "        data = pickle.load(f)\n",
    "        train_dist_from_f_starts_all.append(((data[0]- np.expand_dims(f_star, axis=0))**2).mean())\n",
    "        r_dist_from_f_starts_all.append(((data[1]- np.expand_dims(f_star, axis=0))**2).mean())\n",
    "        s_dist_from_f_starts_all.append(((data[2]- np.expand_dims(f_star, axis=0))**2).mean())"
   ]
  },
  {
   "cell_type": "code",
   "execution_count": 35,
   "metadata": {},
   "outputs": [],
   "source": [
    "train_dist_from_f_starts_all = np.array(train_dist_from_f_starts_all)\n",
    "r_dist_from_f_starts_all = np.array(r_dist_from_f_starts_all)\n",
    "s_dist_from_f_starts_all = np.array(s_dist_from_f_starts_all)"
   ]
  },
  {
   "cell_type": "code",
   "execution_count": 36,
   "metadata": {},
   "outputs": [
    {
     "name": "stderr",
     "output_type": "stream",
     "text": [
      "/home/katie/miniconda3/envs/cifar10/lib/python3.7/site-packages/ipykernel_launcher.py:6: MatplotlibDeprecationWarning: Support for setting an rcParam that expects a str value to a non-str value is deprecated since 3.5 and support will be removed two minor releases later.\n",
      "  \n"
     ]
    },
    {
     "data": {
      "text/plain": [
       "(0.48, 0.67)"
      ]
     },
     "execution_count": 36,
     "metadata": {},
     "output_type": "execute_result"
    },
    {
     "data": {
      "image/png": "[encoded data removed]",
      "text/plain": [
       "<Figure size 640x480 with 1 Axes>"
      ]
     },
     "metadata": {},
     "output_type": "display_data"
    }
   ],
   "source": [
    "\n",
    "\n",
    "import matplotlib as mpl\n",
    "from matplotlib import rc\n",
    "\n",
    "rc('font', **{'family': 'serif', 'serif': ['Computer Modern']})\n",
    "rc('text', usetex=True)\n",
    "mpl.rcParams['text.latex.preamble'] = [r'\\boldmath']\n",
    "\n",
    "colors=[\"C3\", \"C0\", \"C1\", \"C2\", \"C4\", \"C5\", \"C6\", \"C7\", \"C8\", \"C9\"]\n",
    "\n",
    "# plt.rcParams[\"figure.figsize\"] = [2*5.3, 2*4.8]\n",
    "plt.figure()\n",
    "ax = plt.gca()\n",
    "\n",
    "\n",
    "plt.errorbar([0.5], [train_dist_from_f_starts_all.mean(axis=0)], yerr=[train_dist_from_f_starts_all.std(axis=0)], fmt='*', markersize=50, zorder=100, alpha=0.8, color=colors[0])\n",
    "\n",
    "\n",
    "plt.errorbar(np.e**imagenet_r_score, r_dist_from_f_starts_all.mean(axis=0), yerr=r_dist_from_f_starts_all.std(axis=0), fmt=\"o\", markersize=20, label=r\"\\textbf{R(endition)}\", alpha=0.8, color=colors[1])\n",
    "plt.errorbar(np.e**imagenet_s_score, s_dist_from_f_starts_all.mean(axis=0), yerr=s_dist_from_f_starts_all.std(axis=0), fmt=\"o\", markersize=20, label=r\"\\textbf{Sketch}\", alpha=0.8, color=colors[2])\n",
    "\n",
    "\n",
    "plt.xlabel(r\"\\textbf{OOD Score}\", fontsize=40)\n",
    "plt.ylabel(r\"$\\mathbf{||f_{\\theta}(x) - f^*_{constant}||^2}$\", fontsize=40)\n",
    "plt.title(r\"\\textbf{ImageNet (MSE)}\", fontsize=40)\n",
    "plt.legend(bbox_to_anchor=(1.02, 1), loc='upper left', borderaxespad=0., fontsize=20)\n",
    "plt.yticks([0.02+_*0.02 for _ in range(5)], [r\"\\textbf{\"+str(0.02+_*0.02)+\"}\" for _ in range(5)], fontsize=20)\n",
    "plt.xticks([0.5+0.05*_ for _ in range(5)], [r\"\\textbf{\"+str(0.5+0.05*_)+\"}\" for _ in range(5)], fontsize=20)\n",
    "plt.ylim([0.01, 0.11])\n",
    "plt.xlim([0.48, 0.67])"
   ]
  }
 ],
 "metadata": {
  "kernelspec": {
   "display_name": "Python 3.7.16 ('cifar10')",
   "language": "python",
   "name": "python3"
  },
  "language_info": {
   "codemirror_mode": {
    "name": "ipython",
    "version": 3
   },
   "file_extension": ".py",
   "mimetype": "text/x-python",
   "name": "python",
   "nbconvert_exporter": "python",
   "pygments_lexer": "ipython3",
   "version": "3.7.16"
  },
  "orig_nbformat": 4,
  "vscode": {
   "interpreter": {
    "hash": "8a1c863a6e0e302a2443c2590d2374efdb2e50ec7b8201bf436f996711da84ce"
   }
  }
 },
 "nbformat": 4,
 "nbformat_minor": 2
}
