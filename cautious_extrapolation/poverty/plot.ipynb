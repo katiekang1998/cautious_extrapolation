{
 "cells": [
  {
   "cell_type": "code",
   "execution_count": 2,
   "metadata": {},
   "outputs": [
    {
     "name": "stderr",
     "output_type": "stream",
     "text": [
      "/home/katie/miniconda3/envs/cifar10/lib/python3.7/site-packages/tqdm/auto.py:21: TqdmWarning: IProgress not found. Please update jupyter and ipywidgets. See https://ipywidgets.readthedocs.io/en/stable/user_install.html\n",
      "  from .autonotebook import tqdm as notebook_tqdm\n"
     ]
    }
   ],
   "source": [
    "import pickle\n",
    "import matplotlib.pyplot as plt\n",
    "import numpy as np\n",
    "import os\n",
    "\n",
    "import torch\n",
    "import torch.nn as nn\n",
    "import torch.nn.parallel\n",
    "import torch.backends.cudnn as cudnn\n",
    "import torch.optim\n",
    "import torch.utils.data\n",
    "import torchvision.transforms as transforms\n",
    "import torchvision.datasets as datasets\n",
    "import numpy as np\n",
    "import pickle\n",
    "from cautious_extrapolation.data_paths import DATA_PATHS \n",
    "from cautious_extrapolation.utils import get_imagenet_features, kl_divergence_gaussian\n",
    "from sklearn.linear_model import SGDClassifier\n",
    "from sklearn.preprocessing import StandardScaler\n",
    "from sklearn.pipeline import make_pipeline\n",
    "from wilds import get_dataset"
   ]
  },
  {
   "cell_type": "code",
   "execution_count": 3,
   "metadata": {},
   "outputs": [],
   "source": [
    "dataset = get_dataset(dataset=\"poverty\", download=True, root_dir=DATA_PATHS[\"nfs\"][\"poverty\"])"
   ]
  },
  {
   "cell_type": "code",
   "execution_count": 4,
   "metadata": {},
   "outputs": [
    {
     "name": "stderr",
     "output_type": "stream",
     "text": [
      "/home/katie/miniconda3/envs/cifar10/lib/python3.7/site-packages/torchvision/models/_utils.py:209: UserWarning: The parameter 'pretrained' is deprecated since 0.13 and may be removed in the future, please use 'weights' instead.\n",
      "  f\"The parameter '{pretrained_param}' is deprecated since 0.13 and may be removed in the future, \"\n",
      "/home/katie/miniconda3/envs/cifar10/lib/python3.7/site-packages/torchvision/models/_utils.py:223: UserWarning: Arguments other than a weight enum or `None` for 'weights' are deprecated since 0.13 and may be removed in the future. The current behavior is equivalent to passing `weights=ResNet18_Weights.IMAGENET1K_V1`. You can also use `weights=ResNet18_Weights.DEFAULT` to get the most up-to-date weights.\n",
      "  warnings.warn(msg)\n"
     ]
    }
   ],
   "source": [
    "features_dict= {}\n",
    "val_data = dataset.get_subset(\n",
    "    \"id_val\")\n",
    "\n",
    "val_loader = torch.utils.data.DataLoader(\n",
    "    val_data,\n",
    "    batch_size=64, shuffle=True,\n",
    "    num_workers=4, pin_memory=True)\n",
    "\n",
    "train_features = get_imagenet_features(val_loader, poverty=True)\n",
    "features_dict[\"train\"] = train_features"
   ]
  },
  {
   "cell_type": "code",
   "execution_count": 4,
   "metadata": {},
   "outputs": [
    {
     "name": "stdout",
     "output_type": "stream",
     "text": [
      "benin\n",
      "burkina_faso\n",
      "guinea\n",
      "sierra_leone\n",
      "tanzania\n",
      "angola\n",
      "cote_d_ivoire\n",
      "ethiopia\n",
      "mali\n",
      "rwanda\n"
     ]
    }
   ],
   "source": [
    "test_countries = ['benin', 'burkina_faso', 'guinea', 'sierra_leone', 'tanzania', 'angola', 'cote_d_ivoire', 'ethiopia', 'mali', 'rwanda']\n",
    "\n",
    "for country in test_countries:\n",
    "    print(country)\n",
    "    country_metadata_idx = dataset._metadata_map[\"country\"].index(country)\n",
    "    country_idxs = np.where(dataset._metadata_array[:, 2] == country_metadata_idx)\n",
    "    country_data = torch.utils.data.Subset(dataset, country_idxs[0])\n",
    "    country_loader = torch.utils.data.DataLoader(\n",
    "        country_data,\n",
    "        batch_size=64, shuffle=True,\n",
    "        num_workers=4, pin_memory=True)\n",
    "    features_dict[country] = get_imagenet_features(country_loader, poverty=True)"
   ]
  },
  {
   "cell_type": "code",
   "execution_count": 46,
   "metadata": {},
   "outputs": [
    {
     "data": {
      "text/plain": [
       "torch.Size([19669, 1])"
      ]
     },
     "execution_count": 46,
     "metadata": {},
     "output_type": "execute_result"
    }
   ],
   "source": [
    "dataset._y_array.shape"
   ]
  },
  {
   "cell_type": "code",
   "execution_count": 5,
   "metadata": {},
   "outputs": [
    {
     "name": "stdout",
     "output_type": "stream",
     "text": [
      "benin\n",
      "burkina_faso\n"
     ]
    },
    {
     "name": "stderr",
     "output_type": "stream",
     "text": [
      "/home/katie/miniconda3/envs/cifar10/lib/python3.7/site-packages/sklearn/linear_model/_stochastic_gradient.py:700: ConvergenceWarning: Maximum number of iteration reached before convergence. Consider increasing max_iter to improve the fit.\n",
      "  ConvergenceWarning,\n"
     ]
    },
    {
     "name": "stdout",
     "output_type": "stream",
     "text": [
      "guinea\n"
     ]
    },
    {
     "name": "stderr",
     "output_type": "stream",
     "text": [
      "/home/katie/miniconda3/envs/cifar10/lib/python3.7/site-packages/sklearn/linear_model/_stochastic_gradient.py:700: ConvergenceWarning: Maximum number of iteration reached before convergence. Consider increasing max_iter to improve the fit.\n",
      "  ConvergenceWarning,\n"
     ]
    },
    {
     "name": "stdout",
     "output_type": "stream",
     "text": [
      "sierra_leone\n"
     ]
    },
    {
     "name": "stderr",
     "output_type": "stream",
     "text": [
      "/home/katie/miniconda3/envs/cifar10/lib/python3.7/site-packages/sklearn/linear_model/_stochastic_gradient.py:700: ConvergenceWarning: Maximum number of iteration reached before convergence. Consider increasing max_iter to improve the fit.\n",
      "  ConvergenceWarning,\n"
     ]
    },
    {
     "name": "stdout",
     "output_type": "stream",
     "text": [
      "tanzania\n",
      "angola\n",
      "cote_d_ivoire\n"
     ]
    },
    {
     "name": "stderr",
     "output_type": "stream",
     "text": [
      "/home/katie/miniconda3/envs/cifar10/lib/python3.7/site-packages/sklearn/linear_model/_stochastic_gradient.py:700: ConvergenceWarning: Maximum number of iteration reached before convergence. Consider increasing max_iter to improve the fit.\n",
      "  ConvergenceWarning,\n"
     ]
    },
    {
     "name": "stdout",
     "output_type": "stream",
     "text": [
      "ethiopia\n",
      "mali\n",
      "rwanda\n"
     ]
    }
   ],
   "source": [
    "ood_scores_all = [0.5]\n",
    "\n",
    "for country in test_countries:\n",
    "    print(country)\n",
    "    cutoff = min(len(features_dict[country]), len(features_dict[\"train\"]))\n",
    "    ood_features = features_dict[country][:cutoff]\n",
    "    val_features = features_dict[\"train\"][:cutoff]\n",
    "    X = np.concatenate((val_features, ood_features), axis=0)\n",
    "    y = np.concatenate((np.ones(cutoff), np.zeros(cutoff)), axis=0)\n",
    "    idxs = np.random.permutation(2*cutoff)\n",
    "    X = X[idxs]\n",
    "    y = y[idxs]\n",
    "\n",
    "    scores = []\n",
    "    for _ in range(10):\n",
    "        clf = make_pipeline(StandardScaler(), SGDClassifier(max_iter=20, alpha=15))\n",
    "        clf.fit(X[int(0.2*cutoff):], y[int(0.2*cutoff):])\n",
    "        score = clf.score(X[:int(0.2*len(ood_features))], y[:int(0.2*len(ood_features))])\n",
    "        scores.append(score)\n",
    "    ood_scores_all.append(np.mean(scores))"
   ]
  },
  {
   "cell_type": "code",
   "execution_count": 29,
   "metadata": {},
   "outputs": [],
   "source": [
    "dir_path = os.path.dirname(os.path.abspath(\"__file__\"))\n",
    "\n",
    "run_names = [\"t_0.001_seed0_2023_06_01_14_16_38\"]\n",
    "dist_from_f_starts_all = []\n",
    "for run_name in run_names:\n",
    "    with open(os.path.join(dir_path, \"data\", run_name, \"outputs.pkl\"), 'rb') as f:\n",
    "        data = pickle.load(f)\n",
    "    \n",
    "\n",
    "    dist_from_f_starts = []\n",
    "    for country in [\"train\"]+test_countries:\n",
    "        print(country)\n",
    "        dist_from_f_start = data[country][:, 1].mean()#np.median(kl_divergence_gaussian(data[country][:, 0], data[country][:, 1], 0.1118*np.ones(len(data[country])), 0.9*np.ones(len(data[country])))) #np.median((data[country][:, 1]-0.8)**2)\n",
    "        print(dist_from_f_start)\n",
    "        dist_from_f_starts.append(dist_from_f_start)\n",
    "    dist_from_f_starts_all.append(dist_from_f_starts)\n",
    "\n",
    "\n",
    "dist_from_f_starts_all = np.array(dist_from_f_starts_all)"
   ]
  },
  {
   "cell_type": "code",
   "execution_count": 51,
   "metadata": {},
   "outputs": [
    {
     "name": "stdout",
     "output_type": "stream",
     "text": [
      "train\n",
      "0.1798706088267741\n",
      "benin\n",
      "0.31011544802487606\n",
      "burkina_faso\n",
      "0.1558896886809457\n",
      "guinea\n",
      "0.18431767412442962\n",
      "sierra_leone\n",
      "0.15521666881541718\n",
      "tanzania\n",
      "0.1593853900013201\n",
      "angola\n",
      "0.3594124954591409\n",
      "cote_d_ivoire\n",
      "0.2488595230171079\n",
      "ethiopia\n",
      "0.30097834605452317\n",
      "mali\n",
      "0.14347718192824094\n",
      "rwanda\n",
      "0.16809530096495698\n"
     ]
    }
   ],
   "source": [
    "run_name = \"0.001_seed0_2023_05_31_15_45_14\"\n",
    "with open(os.path.join(dir_path, \"data\", run_name, \"outputs.pkl\"), 'rb') as f:\n",
    "    data = pickle.load(f)\n",
    "\n",
    "mses = []\n",
    "stds = []\n",
    "for country in [\"train\"]+test_countries:\n",
    "    print(country)\n",
    "    mse = data[country][:, 2].mean()#np.median(kl_divergence_gaussian(data[country][:, 0], data[country][:, 1], 0.1118*np.ones(len(data[country])), 0.9*np.ones(len(data[country])))) #np.median((data[country][:, 1]-0.8)**2)\n",
    "    mses.append(mse)\n",
    "    print(mse)\n",
    "\n",
    "    # std = np.mean(np.clip(data[country][:, 1], 0, 1.6))\n",
    "    std = np.mean((data[country][:, 1]-0.8)**2)\n",
    "    stds.append(std)"
   ]
  },
  {
   "cell_type": "code",
   "execution_count": 46,
   "metadata": {},
   "outputs": [
    {
     "data": {
      "text/plain": [
       "(array([ 22., 109., 192., 287., 190., 121.,  56.,  17.,   5.,   1.]),\n",
       " array([0.05072781, 0.14063079, 0.23053378, 0.32043676, 0.41033974,\n",
       "        0.50024272, 0.59014571, 0.68004869, 0.76995167, 0.85985465,\n",
       "        0.94975764]),\n",
       " <BarContainer object of 10 artists>)"
      ]
     },
     "execution_count": 46,
     "metadata": {},
     "output_type": "execute_result"
    },
    {
     "data": {
      "image/png": "[encoded data removed]",
      "text/plain": [
       "<Figure size 640x480 with 1 Axes>"
      ]
     },
     "metadata": {},
     "output_type": "display_data"
    }
   ],
   "source": [
    "plt.hist(data[\"train\"][:, 1])"
   ]
  },
  {
   "cell_type": "code",
   "execution_count": 47,
   "metadata": {},
   "outputs": [
    {
     "data": {
      "text/plain": [
       "1.6487212707001282"
      ]
     },
     "execution_count": 47,
     "metadata": {},
     "output_type": "execute_result"
    }
   ],
   "source": [
    "np.sqrt(np.e**1)"
   ]
  },
  {
   "cell_type": "code",
   "execution_count": 52,
   "metadata": {},
   "outputs": [
    {
     "data": {
      "text/plain": [
       "<matplotlib.collections.PathCollection at 0x7fcb423b2e50>"
      ]
     },
     "execution_count": 52,
     "metadata": {},
     "output_type": "execute_result"
    },
    {
     "data": {
      "image/png": "[encoded data removed]",
      "text/plain": [
       "<Figure size 640x480 with 1 Axes>"
      ]
     },
     "metadata": {},
     "output_type": "display_data"
    }
   ],
   "source": [
    "plt.scatter(mses[0], stds[0])\n",
    "plt.scatter(np.array(mses)[1:], np.array(stds)[1:])"
   ]
  },
  {
   "cell_type": "code",
   "execution_count": 32,
   "metadata": {},
   "outputs": [
    {
     "data": {
      "text/plain": [
       "[0.5,\n",
       " 0.7228187919463087,\n",
       " 0.8146496815286625,\n",
       " 0.6466666666666667,\n",
       " 0.7954022988505747,\n",
       " 0.5325,\n",
       " 0.6128654970760234,\n",
       " 0.6779411764705882,\n",
       " 0.631,\n",
       " 0.7398305084745762,\n",
       " 0.6979591836734693]"
      ]
     },
     "execution_count": 32,
     "metadata": {},
     "output_type": "execute_result"
    }
   ],
   "source": [
    "ood_scores_all"
   ]
  },
  {
   "cell_type": "code",
   "execution_count": 30,
   "metadata": {},
   "outputs": [
    {
     "data": {
      "text/plain": [
       "<matplotlib.collections.PathCollection at 0x7f4b30933fd0>"
      ]
     },
     "execution_count": 30,
     "metadata": {},
     "output_type": "execute_result"
    },
    {
     "data": {
      "image/png": "[encoded data removed]",
      "text/plain": [
       "<Figure size 640x480 with 1 Axes>"
      ]
     },
     "metadata": {},
     "output_type": "display_data"
    }
   ],
   "source": [
    "plt.scatter(ood_scores_all, dist_from_f_starts_all[0])"
   ]
  },
  {
   "cell_type": "code",
   "execution_count": 15,
   "metadata": {},
   "outputs": [],
   "source": [
    "criterion = nn.GaussianNLLLoss().cuda()"
   ]
  },
  {
   "cell_type": "code",
   "execution_count": 16,
   "metadata": {},
   "outputs": [],
   "source": [
    "loss_sum = 0\n",
    "total = 0\n",
    "for input, target, meta_data in val_loader:\n",
    "    loss = criterion(0.1118*torch.ones(len(target)), target, 0.9*torch.ones(len(target)))\n",
    "    loss_sum += loss.item()*len(target)\n",
    "    total += len(target)\n"
   ]
  },
  {
   "cell_type": "code",
   "execution_count": 17,
   "metadata": {},
   "outputs": [
    {
     "data": {
      "text/plain": [
       "0.31662358832359316"
      ]
     },
     "execution_count": 17,
     "metadata": {},
     "output_type": "execute_result"
    }
   ],
   "source": [
    "loss_sum/total"
   ]
  },
  {
   "cell_type": "code",
   "execution_count": null,
   "metadata": {},
   "outputs": [],
   "source": [
    "dir_path = os.path.dirname(os.path.abspath(\"__file__\"))\n",
    "\n",
    "run_names = [\"0.001_seed0_2023_05_31_15_45_14\"]\n",
    "dist_from_f_starts_all = []\n",
    "for run_name in run_names:\n",
    "    with open(os.path.join(dir_path, \"data\", run_name, \"outputs.pkl\"), 'rb') as f:\n",
    "        data = pickle.load(f)\n",
    "    \n",
    "\n",
    "    dist_from_f_starts = []\n",
    "    for country in [\"train\"]+test_countries:\n",
    "        dist_from_f_start = np.median(kl_divergence_gaussian(data[country][:, 0], data[country][:, 1], 0.1118*np.ones(len(data[country])), 0.9*np.ones(len(data[country])))) #np.median((data[country][:, 1]-0.8)**2)\n",
    "        dist_from_f_starts.append(dist_from_f_start)\n",
    "    dist_from_f_starts_all.append(dist_from_f_starts)\n",
    "\n",
    "\n",
    "dist_from_f_starts_all = np.array(dist_from_f_starts_all)"
   ]
  },
  {
   "cell_type": "code",
   "execution_count": 10,
   "metadata": {},
   "outputs": [],
   "source": [
    "dir_path = os.path.dirname(os.path.abspath(\"__file__\"))\n",
    "\n",
    "with open(os.path.join(dir_path, \"data\", \"0.001_seed0_2023_05_31_15_45_14\", \"outputs.pkl\"), 'rb') as f:\n",
    "    data = pickle.load(f)"
   ]
  },
  {
   "cell_type": "code",
   "execution_count": 39,
   "metadata": {},
   "outputs": [
    {
     "data": {
      "text/plain": [
       "0.4503553807735443"
      ]
     },
     "execution_count": 39,
     "metadata": {},
     "output_type": "execute_result"
    }
   ],
   "source": [
    "np.median(data[\"train\"][:, 1])"
   ]
  },
  {
   "cell_type": "code",
   "execution_count": 37,
   "metadata": {},
   "outputs": [
    {
     "name": "stdout",
     "output_type": "stream",
     "text": [
      "benin\n",
      "0.5032186087910036\n",
      "burkina_faso\n",
      "0.47942170625403807\n",
      "guinea\n",
      "0.4922764061888059\n",
      "sierra_leone\n",
      "0.46566211581230166\n",
      "tanzania\n",
      "0.4553430911933161\n",
      "angola\n",
      "0.705025032877225\n",
      "cote_d_ivoire\n",
      "0.5314187952849871\n",
      "ethiopia\n",
      "0.5419506354433893\n",
      "mali\n",
      "0.5001147318189427\n",
      "rwanda\n",
      "0.39512671669566535\n"
     ]
    }
   ],
   "source": [
    "for country in test_countries:\n",
    "    print(country)\n",
    "    print(data[country][:, 1].mean())"
   ]
  },
  {
   "cell_type": "code",
   "execution_count": 8,
   "metadata": {},
   "outputs": [
    {
     "name": "stdout",
     "output_type": "stream",
     "text": [
      "benin\n"
     ]
    },
    {
     "ename": "NameError",
     "evalue": "name 'data' is not defined",
     "output_type": "error",
     "traceback": [
      "\u001b[0;31m---------------------------------------------------------------------------\u001b[0m",
      "\u001b[0;31mNameError\u001b[0m                                 Traceback (most recent call last)",
      "\u001b[0;32m/tmp/ipykernel_1379063/1797089997.py\u001b[0m in \u001b[0;36m<module>\u001b[0;34m\u001b[0m\n\u001b[1;32m      1\u001b[0m \u001b[0;32mfor\u001b[0m \u001b[0mcountry\u001b[0m \u001b[0;32min\u001b[0m \u001b[0mtest_countries\u001b[0m\u001b[0;34m:\u001b[0m\u001b[0;34m\u001b[0m\u001b[0;34m\u001b[0m\u001b[0m\n\u001b[1;32m      2\u001b[0m     \u001b[0mprint\u001b[0m\u001b[0;34m(\u001b[0m\u001b[0mcountry\u001b[0m\u001b[0;34m)\u001b[0m\u001b[0;34m\u001b[0m\u001b[0;34m\u001b[0m\u001b[0m\n\u001b[0;32m----> 3\u001b[0;31m     \u001b[0mprint\u001b[0m\u001b[0;34m(\u001b[0m\u001b[0mnp\u001b[0m\u001b[0;34m.\u001b[0m\u001b[0mmedian\u001b[0m\u001b[0;34m(\u001b[0m\u001b[0mdata\u001b[0m\u001b[0;34m[\u001b[0m\u001b[0mcountry\u001b[0m\u001b[0;34m]\u001b[0m\u001b[0;34m[\u001b[0m\u001b[0;34m:\u001b[0m\u001b[0;34m,\u001b[0m \u001b[0;36m1\u001b[0m\u001b[0;34m]\u001b[0m\u001b[0;34m)\u001b[0m\u001b[0;34m)\u001b[0m\u001b[0;34m\u001b[0m\u001b[0;34m\u001b[0m\u001b[0m\n\u001b[0m",
      "\u001b[0;31mNameError\u001b[0m: name 'data' is not defined"
     ]
    }
   ],
   "source": [
    "for country in test_countries:\n",
    "    print(country)\n",
    "    print(np.median(data[country][:, 1]))"
   ]
  },
  {
   "cell_type": "code",
   "execution_count": 11,
   "metadata": {},
   "outputs": [
    {
     "name": "stdout",
     "output_type": "stream",
     "text": [
      "train\n",
      "0.11839220153726637\n",
      "benin\n",
      "0.3082198378862189\n",
      "burkina_faso\n",
      "0.0013388026746506926\n",
      "guinea\n",
      "0.04667081657176216\n",
      "sierra_leone\n",
      "-0.11856664704779783\n",
      "tanzania\n",
      "0.04692171866902678\n",
      "angola\n",
      "0.17678879958452187\n",
      "cote_d_ivoire\n",
      "0.4303956879220925\n",
      "ethiopia\n",
      "0.1533701003209843\n",
      "mali\n",
      "0.164778461894494\n",
      "rwanda\n",
      "-0.19911444962319985\n"
     ]
    }
   ],
   "source": [
    "pred_means = []\n",
    "for country in [\"train\"]+test_countries:\n",
    "    print(country)\n",
    "    print(np.mean(data[country][:, 0]))\n",
    "    pred_means.append(np.mean(data[country][:, 0]))"
   ]
  },
  {
   "cell_type": "code",
   "execution_count": 6,
   "metadata": {},
   "outputs": [
    {
     "name": "stdout",
     "output_type": "stream",
     "text": [
      "benin\n",
      "0.20055291056632996\n",
      "burkina_faso\n",
      "-0.1113099455833435\n",
      "guinea\n",
      "0.10108967870473862\n",
      "sierra_leone\n",
      "-0.1597224920988083\n",
      "tanzania\n",
      "-0.11717523634433746\n",
      "angola\n",
      "0.23051121830940247\n",
      "cote_d_ivoire\n",
      "0.4777851700782776\n",
      "ethiopia\n",
      "-0.3384188711643219\n",
      "mali\n",
      "0.28399911522865295\n",
      "rwanda\n",
      "-0.3437039256095886\n"
     ]
    }
   ],
   "source": [
    "test_countries = ['benin', 'burkina_faso', 'guinea', 'sierra_leone', 'tanzania', 'angola', 'cote_d_ivoire', 'ethiopia', 'mali', 'rwanda']\n",
    "actual_means = [0.1118]\n",
    "for country in test_countries:\n",
    "    print(country)\n",
    "    country_metadata_idx = dataset._metadata_map[\"country\"].index(country)\n",
    "    country_idxs = np.where(dataset._metadata_array[:, 2] == country_metadata_idx)\n",
    "    country_data = torch.utils.data.Subset(dataset, country_idxs[0])\n",
    "    print(dataset._y_array[country_idxs[0]].mean().item())\n",
    "    actual_means.append(dataset._y_array[country_idxs[0]].mean().item())\n",
    "    # plt.scatter(dataset._y_array[country_idxs[0]], data[country][:, 0], alpha=0.05)\n",
    "# plt.plot([-0.2, 0.5], [-0.2, 0.5])"
   ]
  },
  {
   "cell_type": "code",
   "execution_count": 54,
   "metadata": {},
   "outputs": [
    {
     "ename": "ValueError",
     "evalue": "x and y must be the same size",
     "output_type": "error",
     "traceback": [
      "\u001b[0;31m---------------------------------------------------------------------------\u001b[0m",
      "\u001b[0;31mValueError\u001b[0m                                Traceback (most recent call last)",
      "\u001b[0;32m/tmp/ipykernel_1327057/1801478212.py\u001b[0m in \u001b[0;36m<module>\u001b[0;34m\u001b[0m\n\u001b[1;32m      1\u001b[0m \u001b[0mval_idxs\u001b[0m \u001b[0;34m=\u001b[0m \u001b[0mnp\u001b[0m\u001b[0;34m.\u001b[0m\u001b[0mwhere\u001b[0m\u001b[0;34m(\u001b[0m\u001b[0mdataset\u001b[0m\u001b[0;34m.\u001b[0m\u001b[0m_metadata_array\u001b[0m\u001b[0;34m[\u001b[0m\u001b[0;34m:\u001b[0m\u001b[0;34m,\u001b[0m \u001b[0;36m1\u001b[0m\u001b[0;34m]\u001b[0m \u001b[0;34m==\u001b[0m \u001b[0;36m0\u001b[0m\u001b[0;34m)\u001b[0m\u001b[0;34m\u001b[0m\u001b[0;34m\u001b[0m\u001b[0m\n\u001b[0;32m----> 2\u001b[0;31m \u001b[0mplt\u001b[0m\u001b[0;34m.\u001b[0m\u001b[0mscatter\u001b[0m\u001b[0;34m(\u001b[0m\u001b[0mdataset\u001b[0m\u001b[0;34m.\u001b[0m\u001b[0m_y_array\u001b[0m\u001b[0;34m[\u001b[0m\u001b[0mval_idxs\u001b[0m\u001b[0;34m[\u001b[0m\u001b[0;36m0\u001b[0m\u001b[0;34m]\u001b[0m\u001b[0;34m]\u001b[0m\u001b[0;34m,\u001b[0m \u001b[0mdata\u001b[0m\u001b[0;34m[\u001b[0m\u001b[0;34m\"train\"\u001b[0m\u001b[0;34m]\u001b[0m\u001b[0;34m[\u001b[0m\u001b[0;34m:\u001b[0m\u001b[0;34m,\u001b[0m \u001b[0;36m0\u001b[0m\u001b[0;34m]\u001b[0m\u001b[0;34m,\u001b[0m \u001b[0malpha\u001b[0m\u001b[0;34m=\u001b[0m\u001b[0;36m0.05\u001b[0m\u001b[0;34m)\u001b[0m\u001b[0;34m\u001b[0m\u001b[0;34m\u001b[0m\u001b[0m\n\u001b[0m",
      "\u001b[0;32m~/miniconda3/envs/cifar10/lib/python3.7/site-packages/matplotlib/pyplot.py\u001b[0m in \u001b[0;36mscatter\u001b[0;34m(x, y, s, c, marker, cmap, norm, vmin, vmax, alpha, linewidths, edgecolors, plotnonfinite, data, **kwargs)\u001b[0m\n\u001b[1;32m   2819\u001b[0m         \u001b[0mvmin\u001b[0m\u001b[0;34m=\u001b[0m\u001b[0mvmin\u001b[0m\u001b[0;34m,\u001b[0m \u001b[0mvmax\u001b[0m\u001b[0;34m=\u001b[0m\u001b[0mvmax\u001b[0m\u001b[0;34m,\u001b[0m \u001b[0malpha\u001b[0m\u001b[0;34m=\u001b[0m\u001b[0malpha\u001b[0m\u001b[0;34m,\u001b[0m \u001b[0mlinewidths\u001b[0m\u001b[0;34m=\u001b[0m\u001b[0mlinewidths\u001b[0m\u001b[0;34m,\u001b[0m\u001b[0;34m\u001b[0m\u001b[0;34m\u001b[0m\u001b[0m\n\u001b[1;32m   2820\u001b[0m         \u001b[0medgecolors\u001b[0m\u001b[0;34m=\u001b[0m\u001b[0medgecolors\u001b[0m\u001b[0;34m,\u001b[0m \u001b[0mplotnonfinite\u001b[0m\u001b[0;34m=\u001b[0m\u001b[0mplotnonfinite\u001b[0m\u001b[0;34m,\u001b[0m\u001b[0;34m\u001b[0m\u001b[0;34m\u001b[0m\u001b[0m\n\u001b[0;32m-> 2821\u001b[0;31m         **({\"data\": data} if data is not None else {}), **kwargs)\n\u001b[0m\u001b[1;32m   2822\u001b[0m     \u001b[0msci\u001b[0m\u001b[0;34m(\u001b[0m\u001b[0m__ret\u001b[0m\u001b[0;34m)\u001b[0m\u001b[0;34m\u001b[0m\u001b[0;34m\u001b[0m\u001b[0m\n\u001b[1;32m   2823\u001b[0m     \u001b[0;32mreturn\u001b[0m \u001b[0m__ret\u001b[0m\u001b[0;34m\u001b[0m\u001b[0;34m\u001b[0m\u001b[0m\n",
      "\u001b[0;32m~/miniconda3/envs/cifar10/lib/python3.7/site-packages/matplotlib/__init__.py\u001b[0m in \u001b[0;36minner\u001b[0;34m(ax, data, *args, **kwargs)\u001b[0m\n\u001b[1;32m   1412\u001b[0m     \u001b[0;32mdef\u001b[0m \u001b[0minner\u001b[0m\u001b[0;34m(\u001b[0m\u001b[0max\u001b[0m\u001b[0;34m,\u001b[0m \u001b[0;34m*\u001b[0m\u001b[0margs\u001b[0m\u001b[0;34m,\u001b[0m \u001b[0mdata\u001b[0m\u001b[0;34m=\u001b[0m\u001b[0;32mNone\u001b[0m\u001b[0;34m,\u001b[0m \u001b[0;34m**\u001b[0m\u001b[0mkwargs\u001b[0m\u001b[0;34m)\u001b[0m\u001b[0;34m:\u001b[0m\u001b[0;34m\u001b[0m\u001b[0;34m\u001b[0m\u001b[0m\n\u001b[1;32m   1413\u001b[0m         \u001b[0;32mif\u001b[0m \u001b[0mdata\u001b[0m \u001b[0;32mis\u001b[0m \u001b[0;32mNone\u001b[0m\u001b[0;34m:\u001b[0m\u001b[0;34m\u001b[0m\u001b[0;34m\u001b[0m\u001b[0m\n\u001b[0;32m-> 1414\u001b[0;31m             \u001b[0;32mreturn\u001b[0m \u001b[0mfunc\u001b[0m\u001b[0;34m(\u001b[0m\u001b[0max\u001b[0m\u001b[0;34m,\u001b[0m \u001b[0;34m*\u001b[0m\u001b[0mmap\u001b[0m\u001b[0;34m(\u001b[0m\u001b[0msanitize_sequence\u001b[0m\u001b[0;34m,\u001b[0m \u001b[0margs\u001b[0m\u001b[0;34m)\u001b[0m\u001b[0;34m,\u001b[0m \u001b[0;34m**\u001b[0m\u001b[0mkwargs\u001b[0m\u001b[0;34m)\u001b[0m\u001b[0;34m\u001b[0m\u001b[0;34m\u001b[0m\u001b[0m\n\u001b[0m\u001b[1;32m   1415\u001b[0m \u001b[0;34m\u001b[0m\u001b[0m\n\u001b[1;32m   1416\u001b[0m         \u001b[0mbound\u001b[0m \u001b[0;34m=\u001b[0m \u001b[0mnew_sig\u001b[0m\u001b[0;34m.\u001b[0m\u001b[0mbind\u001b[0m\u001b[0;34m(\u001b[0m\u001b[0max\u001b[0m\u001b[0;34m,\u001b[0m \u001b[0;34m*\u001b[0m\u001b[0margs\u001b[0m\u001b[0;34m,\u001b[0m \u001b[0;34m**\u001b[0m\u001b[0mkwargs\u001b[0m\u001b[0;34m)\u001b[0m\u001b[0;34m\u001b[0m\u001b[0;34m\u001b[0m\u001b[0m\n",
      "\u001b[0;32m~/miniconda3/envs/cifar10/lib/python3.7/site-packages/matplotlib/axes/_axes.py\u001b[0m in \u001b[0;36mscatter\u001b[0;34m(self, x, y, s, c, marker, cmap, norm, vmin, vmax, alpha, linewidths, edgecolors, plotnonfinite, **kwargs)\u001b[0m\n\u001b[1;32m   4366\u001b[0m         \u001b[0my\u001b[0m \u001b[0;34m=\u001b[0m \u001b[0mnp\u001b[0m\u001b[0;34m.\u001b[0m\u001b[0mma\u001b[0m\u001b[0;34m.\u001b[0m\u001b[0mravel\u001b[0m\u001b[0;34m(\u001b[0m\u001b[0my\u001b[0m\u001b[0;34m)\u001b[0m\u001b[0;34m\u001b[0m\u001b[0;34m\u001b[0m\u001b[0m\n\u001b[1;32m   4367\u001b[0m         \u001b[0;32mif\u001b[0m \u001b[0mx\u001b[0m\u001b[0;34m.\u001b[0m\u001b[0msize\u001b[0m \u001b[0;34m!=\u001b[0m \u001b[0my\u001b[0m\u001b[0;34m.\u001b[0m\u001b[0msize\u001b[0m\u001b[0;34m:\u001b[0m\u001b[0;34m\u001b[0m\u001b[0;34m\u001b[0m\u001b[0m\n\u001b[0;32m-> 4368\u001b[0;31m             \u001b[0;32mraise\u001b[0m \u001b[0mValueError\u001b[0m\u001b[0;34m(\u001b[0m\u001b[0;34m\"x and y must be the same size\"\u001b[0m\u001b[0;34m)\u001b[0m\u001b[0;34m\u001b[0m\u001b[0;34m\u001b[0m\u001b[0m\n\u001b[0m\u001b[1;32m   4369\u001b[0m \u001b[0;34m\u001b[0m\u001b[0m\n\u001b[1;32m   4370\u001b[0m         \u001b[0;32mif\u001b[0m \u001b[0ms\u001b[0m \u001b[0;32mis\u001b[0m \u001b[0;32mNone\u001b[0m\u001b[0;34m:\u001b[0m\u001b[0;34m\u001b[0m\u001b[0;34m\u001b[0m\u001b[0m\n",
      "\u001b[0;31mValueError\u001b[0m: x and y must be the same size"
     ]
    },
    {
     "data": {
      "image/png": "[encoded data removed]",
      "text/plain": [
       "<Figure size 640x480 with 1 Axes>"
      ]
     },
     "metadata": {},
     "output_type": "display_data"
    },
    {
     "ename": "",
     "evalue": "",
     "output_type": "error",
     "traceback": [
      "\u001b[1;31mThe Kernel crashed while executing code in the the current cell or a previous cell. Please review the code in the cell(s) to identify a possible cause of the failure. Click <a href='https://aka.ms/vscodeJupyterKernelCrash'>here</a> for more info. View Jupyter <a href='command:jupyter.viewOutput'>log</a> for further details."
     ]
    }
   ],
   "source": [
    "val_idxs = np.where(dataset._metadata_array[:, 1] == 0)\n",
    "plt.scatter(dataset._y_array[val_idxs[0]], data[\"train\"][:, 0], alpha=0.05)"
   ]
  },
  {
   "cell_type": "code",
   "execution_count": 16,
   "metadata": {},
   "outputs": [
    {
     "data": {
      "text/plain": [
       "Text(0.5, 1.0, 'Poverty')"
      ]
     },
     "execution_count": 16,
     "metadata": {},
     "output_type": "execute_result"
    },
    {
     "data": {
      "image/png": "[encoded data removed]",
      "text/plain": [
       "<Figure size 640x480 with 1 Axes>"
      ]
     },
     "metadata": {},
     "output_type": "display_data"
    }
   ],
   "source": [
    "plt.scatter([pred_means[0]], [actual_means[0]])\n",
    "plt.scatter(pred_means[1:], actual_means[1:])\n",
    "plt.plot([-0.2, 0.5], [-0.2, 0.5])\n",
    "plt.xlabel(\"Predicted mean\")\n",
    "plt.ylabel(\"Actual mean\")\n",
    "plt.title(\"Poverty\")"
   ]
  },
  {
   "cell_type": "code",
   "execution_count": 15,
   "metadata": {},
   "outputs": [
    {
     "data": {
      "text/plain": [
       "0.10108031288527537"
      ]
     },
     "execution_count": 15,
     "metadata": {},
     "output_type": "execute_result"
    }
   ],
   "source": [
    "np.array(pred_means[1:]).mean()"
   ]
  },
  {
   "cell_type": "code",
   "execution_count": null,
   "metadata": {},
   "outputs": [],
   "source": []
  }
 ],
 "metadata": {
  "kernelspec": {
   "display_name": "cifar10",
   "language": "python",
   "name": "python3"
  },
  "language_info": {
   "codemirror_mode": {
    "name": "ipython",
    "version": 3
   },
   "file_extension": ".py",
   "mimetype": "text/x-python",
   "name": "python",
   "nbconvert_exporter": "python",
   "pygments_lexer": "ipython3",
   "version": "3.7.16"
  },
  "orig_nbformat": 4
 },
 "nbformat": 4,
 "nbformat_minor": 2
}
