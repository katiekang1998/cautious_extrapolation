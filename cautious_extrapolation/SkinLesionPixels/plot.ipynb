{
 "cells": [
  {
   "cell_type": "code",
   "execution_count": 12,
   "metadata": {},
   "outputs": [],
   "source": [
    "import pickle\n",
    "%matplotlib inline\n",
    "import matplotlib.pyplot as plt\n",
    "import numpy as np\n",
    "import os\n",
    "\n",
    "import torch\n",
    "import torch.nn as nn\n",
    "import torch.nn.parallel\n",
    "import torch.backends.cudnn as cudnn\n",
    "import torch.optim\n",
    "import torch.utils.data\n",
    "import torchvision.transforms as transforms\n",
    "import torchvision.datasets as datasets\n",
    "import dataset\n",
    "import numpy as np\n",
    "import pickle\n",
    "from cautious_extrapolation.data_paths import DATA_PATHS \n",
    "from cautious_extrapolation.utils import get_imagenet_features, kl_divergence_gaussian\n",
    "from sklearn.linear_model import SGDClassifier\n",
    "from sklearn.preprocessing import StandardScaler\n",
    "from sklearn.pipeline import make_pipeline"
   ]
  },
  {
   "cell_type": "code",
   "execution_count": 2,
   "metadata": {},
   "outputs": [
    {
     "name": "stdout",
     "output_type": "stream",
     "text": [
      "(1164,)\n",
      "(1164, 64, 64, 3)\n",
      "DatasetVal - number of images: 1164\n",
      "21.0\n",
      "4020.0\n",
      "1027.3806\n",
      "(2259,)\n",
      "(2259, 64, 64, 3)\n",
      "DatasetTest - number of images: 2259\n",
      "15.0\n",
      "3978.0\n",
      "1242.1696\n"
     ]
    }
   ],
   "source": [
    "\n",
    "val_dataset = dataset.DatasetVal(DATA_PATHS[\"nfs\"][\"SkinLesionPixels\"])\n",
    "val_loader = torch.utils.data.DataLoader(dataset=val_dataset, batch_size=32, shuffle=True)\n",
    "\n",
    "ood_dataset = dataset.DatasetTest(DATA_PATHS[\"nfs\"][\"SkinLesionPixels\"])\n",
    "ood_loader = torch.utils.data.DataLoader(dataset=ood_dataset, batch_size=32, shuffle=True)"
   ]
  },
  {
   "cell_type": "code",
   "execution_count": 3,
   "metadata": {},
   "outputs": [
    {
     "name": "stderr",
     "output_type": "stream",
     "text": [
      "/home/katie/miniconda3/envs/cifar10/lib/python3.7/site-packages/torchvision/models/_utils.py:209: UserWarning: The parameter 'pretrained' is deprecated since 0.13 and may be removed in the future, please use 'weights' instead.\n",
      "  f\"The parameter '{pretrained_param}' is deprecated since 0.13 and may be removed in the future, \"\n",
      "/home/katie/miniconda3/envs/cifar10/lib/python3.7/site-packages/torchvision/models/_utils.py:223: UserWarning: Arguments other than a weight enum or `None` for 'weights' are deprecated since 0.13 and may be removed in the future. The current behavior is equivalent to passing `weights=ResNet18_Weights.IMAGENET1K_V1`. You can also use `weights=ResNet18_Weights.DEFAULT` to get the most up-to-date weights.\n",
      "  warnings.warn(msg)\n"
     ]
    }
   ],
   "source": [
    "val_features = get_imagenet_features(val_loader)\n",
    "ood_features = get_imagenet_features(ood_loader)"
   ]
  },
  {
   "cell_type": "code",
   "execution_count": 4,
   "metadata": {},
   "outputs": [],
   "source": [
    "\n",
    "num_points = min(len(val_features), len(ood_features))\n",
    "X = np.concatenate((val_features[:num_points], ood_features[:num_points]), axis=0)\n",
    "y = np.concatenate((np.ones(num_points), np.zeros(num_points)), axis=0)\n",
    "idxs = np.random.permutation(2*num_points) \n",
    "X = X[idxs]\n",
    "y = y[idxs]\n",
    "\n",
    "scores = []\n",
    "for _ in range(10):\n",
    "    clf = make_pipeline(StandardScaler(), SGDClassifier(max_iter=20, alpha=10))\n",
    "    clf.fit(X[int(0.2*num_points):], y[int(0.2*num_points):])\n",
    "    score = clf.score(X[:int(0.2*num_points)], y[:int(0.2*num_points)])\n",
    "    scores.append(score)"
   ]
  },
  {
   "cell_type": "code",
   "execution_count": 5,
   "metadata": {},
   "outputs": [
    {
     "data": {
      "text/plain": [
       "0.8008620689655173"
      ]
     },
     "execution_count": 5,
     "metadata": {},
     "output_type": "execute_result"
    }
   ],
   "source": [
    "np.mean(scores)"
   ]
  },
  {
   "cell_type": "code",
   "execution_count": 6,
   "metadata": {},
   "outputs": [
    {
     "data": {
      "text/plain": [
       "(array([314., 517., 421., 327., 272., 186., 101.,  75.,  29.,  17.]),\n",
       " array([  15. ,  411.3,  807.6, 1203.9, 1600.2, 1996.5, 2392.8, 2789.1,\n",
       "        3185.4, 3581.7, 3978. ], dtype=float32),\n",
       " <BarContainer object of 10 artists>)"
      ]
     },
     "execution_count": 6,
     "metadata": {},
     "output_type": "execute_result"
    }
   ],
   "source": [
    "plt.hist(val_dataset.labels)\n",
    "plt.hist(ood_dataset.labels)"
   ]
  },
  {
   "cell_type": "code",
   "execution_count": 7,
   "metadata": {},
   "outputs": [
    {
     "data": {
      "text/plain": [
       "1027.3806"
      ]
     },
     "execution_count": 7,
     "metadata": {},
     "output_type": "execute_result"
    }
   ],
   "source": [
    "val_dataset.labels.mean()"
   ]
  },
  {
   "cell_type": "code",
   "execution_count": 8,
   "metadata": {},
   "outputs": [
    {
     "data": {
      "text/plain": [
       "735.5443"
      ]
     },
     "execution_count": 8,
     "metadata": {},
     "output_type": "execute_result"
    }
   ],
   "source": [
    "val_dataset.labels.std()"
   ]
  },
  {
   "cell_type": "code",
   "execution_count": 9,
   "metadata": {},
   "outputs": [],
   "source": [
    "dir_path = os.path.dirname(os.path.abspath(\"__file__\"))\n",
    "dataset_types = ['train', 'ood']\n",
    "\n",
    "\n",
    "run_names = [\"nll_seed0_2023_06_02_17_31_41\",\n",
    "             \"nll_seed1_2023_06_02_17_33_36\",\n",
    "             \"nll_seed2_2023_06_02_17_48_28\",\n",
    "             \"nll_seed3_2023_06_02_17_50_58\",\n",
    "             \"nll_seed4_2023_06_05_15_50_36\"]\n",
    "\n",
    "train_kls_all = []\n",
    "ood_kls_all = []\n",
    "for run_name in run_names:\n",
    "    with open(os.path.join(dir_path, \"data\", run_name, \"outputs.pkl\"), 'rb') as f:\n",
    "        data = pickle.load(f)\n",
    "\n",
    "    train_kls = kl_divergence_gaussian(data['train'][:, 0], data['train'][:, 1], val_dataset.labels.mean()*np.ones(len(data['train'])), val_dataset.labels.std()*np.ones(len(data['train'])))\n",
    "    ood_kls = kl_divergence_gaussian(data['ood'][:, 0], data['ood'][:, 1], val_dataset.labels.mean()*np.ones(len(data['ood'])), val_dataset.labels.std()*np.ones(len(data['ood'])))\n",
    "    train_kls_all.append(train_kls.mean())\n",
    "    ood_kls_all.append(ood_kls.mean())\n",
    "\n",
    "train_kls_all = np.array(train_kls_all)\n",
    "ood_kls_all = np.array(ood_kls_all)"
   ]
  },
  {
   "cell_type": "code",
   "execution_count": 13,
   "metadata": {},
   "outputs": [
    {
     "data": {
      "image/png": "[encoded data removed]",
      "text/plain": [
       "<Figure size 640x480 with 1 Axes>"
      ]
     },
     "metadata": {},
     "output_type": "display_data"
    }
   ],
   "source": [
    "# plt.plot([0.5, np.mean(scores)], [train_kls_all.mean(), ood_kls_all.mean()])\n",
    "plt.errorbar([0.5, np.mean(scores)], [train_kls_all.mean(), ood_kls_all.mean()], yerr=[train_kls_all.std(), ood_kls_all.std()])\n",
    "plt.xlabel(\"OOD Score\")\n",
    "plt.ylabel(\"KL Divergence\")\n",
    "plt.show()"
   ]
  },
  {
   "cell_type": "code",
   "execution_count": null,
   "metadata": {},
   "outputs": [],
   "source": []
  }
 ],
 "metadata": {
  "kernelspec": {
   "display_name": "cifar10",
   "language": "python",
   "name": "python3"
  },
  "language_info": {
   "codemirror_mode": {
    "name": "ipython",
    "version": 3
   },
   "file_extension": ".py",
   "mimetype": "text/x-python",
   "name": "python",
   "nbconvert_exporter": "python",
   "pygments_lexer": "ipython3",
   "version": "3.7.16"
  },
  "orig_nbformat": 4
 },
 "nbformat": 4,
 "nbformat_minor": 2
}
