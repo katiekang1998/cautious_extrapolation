{
 "cells": [
  {
   "cell_type": "code",
   "execution_count": 53,
   "metadata": {},
   "outputs": [],
   "source": [
    "import argparse\n",
    "import os\n",
    "import shutil\n",
    "import time\n",
    "\n",
    "import torch\n",
    "import torch.nn as nn\n",
    "import torch.nn.parallel\n",
    "import torch.backends.cudnn as cudnn\n",
    "import torch.optim\n",
    "import torch.utils.data\n",
    "import torchvision.transforms as transforms\n",
    "import torchvision.datasets as datasets\n",
    "import models\n",
    "from dataset import UTKDataset\n",
    "import wandb\n",
    "import numpy as np\n",
    "import random\n",
    "from datetime import datetime\n",
    "from cautious_extrapolation.utils import AverageMeter, save_checkpoint, kl_divergence_gaussian\n",
    "from cautious_extrapolation.data_paths import DATA_PATHS\n",
    "import pandas as pd\n",
    "from sklearn.model_selection import train_test_split\n",
    "from cautious_extrapolation.utils import get_imagenet_features\n",
    "from sklearn.linear_model import SGDClassifier\n",
    "from sklearn.preprocessing import StandardScaler\n",
    "from sklearn.pipeline import make_pipeline\n",
    "import pickle\n",
    "import matplotlib.pyplot as plt"
   ]
  },
  {
   "cell_type": "code",
   "execution_count": 54,
   "metadata": {},
   "outputs": [
    {
     "name": "stderr",
     "output_type": "stream",
     "text": [
      "/home/katie/miniconda3/envs/cifar10/lib/python3.7/site-packages/torchvision/models/_utils.py:209: UserWarning: The parameter 'pretrained' is deprecated since 0.13 and may be removed in the future, please use 'weights' instead.\n",
      "  f\"The parameter '{pretrained_param}' is deprecated since 0.13 and may be removed in the future, \"\n",
      "/home/katie/miniconda3/envs/cifar10/lib/python3.7/site-packages/torchvision/models/_utils.py:223: UserWarning: Arguments other than a weight enum or `None` for 'weights' are deprecated since 0.13 and may be removed in the future. The current behavior is equivalent to passing `weights=ResNet18_Weights.IMAGENET1K_V1`. You can also use `weights=ResNet18_Weights.DEFAULT` to get the most up-to-date weights.\n",
      "  warnings.warn(msg)\n"
     ]
    }
   ],
   "source": [
    "normalize = transforms.Compose([\n",
    "    transforms.ToTensor(),\n",
    "    transforms.Normalize((0.49,), (0.23,))\n",
    "])\n",
    "\n",
    "dataFrame = pd.read_csv(os.path.join(DATA_PATHS[\"nfs\"][\"UTKFace\"], 'age_gender.gz'), compression='gzip')\n",
    "train_dataFrame, val_dataFrame = train_test_split(dataFrame, test_size=0.2, random_state=42)\n",
    "\n",
    "\n",
    "val_loader = torch.utils.data.DataLoader(\n",
    "    UTKDataset(val_dataFrame, transform=normalize),\n",
    "    batch_size=64, shuffle=False,\n",
    "    num_workers=4)\n",
    "\n",
    "val_features = get_imagenet_features(val_loader, UTKFace=True)\n",
    "num_points = len(val_features)\n"
   ]
  },
  {
   "cell_type": "code",
   "execution_count": 55,
   "metadata": {},
   "outputs": [
    {
     "name": "stderr",
     "output_type": "stream",
     "text": [
      "/home/katie/miniconda3/envs/cifar10/lib/python3.7/site-packages/torchvision/models/_utils.py:209: UserWarning: The parameter 'pretrained' is deprecated since 0.13 and may be removed in the future, please use 'weights' instead.\n",
      "  f\"The parameter '{pretrained_param}' is deprecated since 0.13 and may be removed in the future, \"\n",
      "/home/katie/miniconda3/envs/cifar10/lib/python3.7/site-packages/torchvision/models/_utils.py:223: UserWarning: Arguments other than a weight enum or `None` for 'weights' are deprecated since 0.13 and may be removed in the future. The current behavior is equivalent to passing `weights=ResNet18_Weights.IMAGENET1K_V1`. You can also use `weights=ResNet18_Weights.DEFAULT` to get the most up-to-date weights.\n",
      "  warnings.warn(msg)\n",
      "/home/katie/miniconda3/envs/cifar10/lib/python3.7/site-packages/torchvision/models/_utils.py:209: UserWarning: The parameter 'pretrained' is deprecated since 0.13 and may be removed in the future, please use 'weights' instead.\n",
      "  f\"The parameter '{pretrained_param}' is deprecated since 0.13 and may be removed in the future, \"\n",
      "/home/katie/miniconda3/envs/cifar10/lib/python3.7/site-packages/torchvision/models/_utils.py:223: UserWarning: Arguments other than a weight enum or `None` for 'weights' are deprecated since 0.13 and may be removed in the future. The current behavior is equivalent to passing `weights=ResNet18_Weights.IMAGENET1K_V1`. You can also use `weights=ResNet18_Weights.DEFAULT` to get the most up-to-date weights.\n",
      "  warnings.warn(msg)\n",
      "/home/katie/miniconda3/envs/cifar10/lib/python3.7/site-packages/torchvision/models/_utils.py:209: UserWarning: The parameter 'pretrained' is deprecated since 0.13 and may be removed in the future, please use 'weights' instead.\n",
      "  f\"The parameter '{pretrained_param}' is deprecated since 0.13 and may be removed in the future, \"\n",
      "/home/katie/miniconda3/envs/cifar10/lib/python3.7/site-packages/torchvision/models/_utils.py:223: UserWarning: Arguments other than a weight enum or `None` for 'weights' are deprecated since 0.13 and may be removed in the future. The current behavior is equivalent to passing `weights=ResNet18_Weights.IMAGENET1K_V1`. You can also use `weights=ResNet18_Weights.DEFAULT` to get the most up-to-date weights.\n",
      "  warnings.warn(msg)\n",
      "/home/katie/miniconda3/envs/cifar10/lib/python3.7/site-packages/torchvision/models/_utils.py:209: UserWarning: The parameter 'pretrained' is deprecated since 0.13 and may be removed in the future, please use 'weights' instead.\n",
      "  f\"The parameter '{pretrained_param}' is deprecated since 0.13 and may be removed in the future, \"\n",
      "/home/katie/miniconda3/envs/cifar10/lib/python3.7/site-packages/torchvision/models/_utils.py:223: UserWarning: Arguments other than a weight enum or `None` for 'weights' are deprecated since 0.13 and may be removed in the future. The current behavior is equivalent to passing `weights=ResNet18_Weights.IMAGENET1K_V1`. You can also use `weights=ResNet18_Weights.DEFAULT` to get the most up-to-date weights.\n",
      "  warnings.warn(msg)\n"
     ]
    }
   ],
   "source": [
    "\n",
    "ood_scores = [0.5]\n",
    "for corruption_level in range(5):\n",
    "    ood_loader = torch.utils.data.DataLoader(\n",
    "        UTKDataset(val_dataFrame, severity=corruption_level+1, transform=normalize),\n",
    "        batch_size=64, shuffle=False,\n",
    "        num_workers=4)\n",
    "    ood_features = get_imagenet_features(ood_loader, UTKFace=True)\n",
    "\n",
    "    X = np.concatenate((val_features, ood_features), axis=0)\n",
    "    y = np.concatenate((np.ones(num_points), np.zeros(num_points)), axis=0)\n",
    "    idxs = np.random.permutation(2*num_points)\n",
    "    X = X[idxs]\n",
    "    y = y[idxs]\n",
    "\n",
    "    scores = []\n",
    "    for _ in range(10):\n",
    "        clf = make_pipeline(StandardScaler(), SGDClassifier(loss=\"log\", max_iter=20, alpha=10))\n",
    "        clf.fit(X[int(0.2*num_points):], y[int(0.2*num_points):])\n",
    "\n",
    "        ood_idxs = np.where(y[:int(0.2*num_points)]==0)\n",
    "        score = clf.predict_proba(X[ood_idxs])[:, 0].mean()\n",
    "        scores.append(score)\n",
    "    ood_scores.append(np.mean(scores))"
   ]
  },
  {
   "cell_type": "code",
   "execution_count": 56,
   "metadata": {},
   "outputs": [
    {
     "data": {
      "text/plain": [
       "[0.5,\n",
       " 0.6071034966529687,\n",
       " 0.7637001908500853,\n",
       " 0.8468774704092373,\n",
       " 0.8493460399836804,\n",
       " 0.8615001402878782]"
      ]
     },
     "execution_count": 56,
     "metadata": {},
     "output_type": "execute_result"
    }
   ],
   "source": [
    "ood_scores"
   ]
  },
  {
   "cell_type": "code",
   "execution_count": 57,
   "metadata": {},
   "outputs": [],
   "source": [
    "label_mean = val_loader.dataset.age_label.mean()\n",
    "label_std = val_loader.dataset.age_label.std()"
   ]
  },
  {
   "cell_type": "code",
   "execution_count": 58,
   "metadata": {},
   "outputs": [],
   "source": [
    "dir_path = os.path.dirname(os.path.abspath(\"__file__\"))\n",
    "dataset_types = ['train', 'ood']\n",
    "\n",
    "\n",
    "run_names = [\"seed0_2023_06_12_17_43_26\", \"seed1_2023_06_12_18_22_14\", \"seed2_2023_06_12_18_25_32\", \"seed3_2023_06_12_18_35_49\", \"seed4_2023_06_12_18_32_12\"]\n",
    "\n",
    "kls_all = []\n",
    "for run_name in run_names:\n",
    "    with open(os.path.join(dir_path, \"data\", run_name, \"outputs.pkl\"), 'rb') as f:\n",
    "        data = pickle.load(f)\n",
    "    \n",
    "    kls = []\n",
    "    for level in range(6):\n",
    "        kl=  kl_divergence_gaussian(data[level][:, 0], data[level][:, 1], label_mean*np.ones(len(data[level])), label_std*np.ones(len(data[level])))\n",
    "        kls.append(kl.mean())\n",
    "    kls_all.append(kls)\n",
    "\n",
    "kls_all = np.array(kls_all)\n"
   ]
  },
  {
   "cell_type": "code",
   "execution_count": 59,
   "metadata": {},
   "outputs": [
    {
     "data": {
      "image/png": "[encoded data removed]",
      "text/plain": [
       "<Figure size 640x480 with 1 Axes>"
      ]
     },
     "metadata": {},
     "output_type": "display_data"
    }
   ],
   "source": [
    "plt.errorbar(ood_scores, kls_all.mean(axis=0), yerr=kls_all.std(axis=0), fmt='o-')\n",
    "plt.xlabel(\"OOD Score\")\n",
    "plt.ylabel(\"KL Divergence\")\n",
    "plt.show()"
   ]
  },
  {
   "cell_type": "code",
   "execution_count": null,
   "metadata": {},
   "outputs": [],
   "source": []
  }
 ],
 "metadata": {
  "kernelspec": {
   "display_name": "cifar10",
   "language": "python",
   "name": "python3"
  },
  "language_info": {
   "codemirror_mode": {
    "name": "ipython",
    "version": 3
   },
   "file_extension": ".py",
   "mimetype": "text/x-python",
   "name": "python",
   "nbconvert_exporter": "python",
   "pygments_lexer": "ipython3",
   "version": "3.7.16"
  },
  "orig_nbformat": 4
 },
 "nbformat": 4,
 "nbformat_minor": 2
}
