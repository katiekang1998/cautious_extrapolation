{
 "cells": [
  {
   "cell_type": "code",
   "execution_count": 1,
   "metadata": {},
   "outputs": [
    {
     "name": "stderr",
     "output_type": "stream",
     "text": [
      "/home/katie/miniconda3/envs/cifar10/lib/python3.7/site-packages/tqdm/auto.py:21: TqdmWarning: IProgress not found. Please update jupyter and ipywidgets. See https://ipywidgets.readthedocs.io/en/stable/user_install.html\n",
      "  from .autonotebook import tqdm as notebook_tqdm\n"
     ]
    }
   ],
   "source": [
    "from train import Net\n",
    "from torch.utils.data import Dataset\n",
    "import pickle\n",
    "import numpy as np\n",
    "import os\n",
    "import torch\n",
    "import torch.nn as nn\n",
    "import torch.nn.functional as F\n",
    "import torch.optim as optim\n",
    "from torchvision import datasets, transforms\n",
    "from torch.optim.lr_scheduler import StepLR\n",
    "from cautious_extrapolation.data_paths import DATA_PATHS\n",
    "from cautious_extrapolation.utils import get_imagenet_features\n"
   ]
  },
  {
   "cell_type": "code",
   "execution_count": 3,
   "metadata": {},
   "outputs": [],
   "source": [
    "class P_MNIST(Dataset):\n",
    "    def __init__(self, perturbed_imgs, labels, transform=None):\n",
    "        self.transform = transform\n",
    "        self.imgs = perturbed_imgs\n",
    "        self.labels = labels\n",
    "\n",
    "    def __len__(self):\n",
    "        return len(self.labels)\n",
    "\n",
    "    def __getitem__(self, idx):\n",
    "        img = self.imgs[idx]\n",
    "        if self.transform:\n",
    "            img = self.transform(img)\n",
    "        label = self.labels[idx]\n",
    "        return img, label"
   ]
  },
  {
   "cell_type": "code",
   "execution_count": 4,
   "metadata": {},
   "outputs": [
    {
     "data": {
      "text/plain": [
       "Net(\n",
       "  (conv1): Conv2d(1, 32, kernel_size=(3, 3), stride=(1, 1))\n",
       "  (conv2): Conv2d(32, 64, kernel_size=(3, 3), stride=(1, 1))\n",
       "  (fc1): Linear(in_features=9216, out_features=128, bias=True)\n",
       "  (fc2): Linear(in_features=128, out_features=10, bias=True)\n",
       ")"
      ]
     },
     "execution_count": 4,
     "metadata": {},
     "output_type": "execute_result"
    }
   ],
   "source": [
    "model = Net().to(\"cuda\")\n",
    "model.load_state_dict(torch.load(os.path.join(\"data\", \"model1.pt\")))\n",
    "model.eval()\n",
    "model.cuda()"
   ]
  },
  {
   "cell_type": "code",
   "execution_count": 5,
   "metadata": {},
   "outputs": [],
   "source": [
    "transform=transforms.Compose([\n",
    "    transforms.ToTensor(),\n",
    "    transforms.Normalize((0.1307,), (0.3081,))\n",
    "    ])\n",
    "\n",
    "test_dataset = datasets.MNIST(DATA_PATHS[\"desktop\"][\"MNIST\"], train=False, transform=transform)\n",
    "test_loader = torch.utils.data.DataLoader(test_dataset, batch_size=1024)"
   ]
  },
  {
   "cell_type": "code",
   "execution_count": 6,
   "metadata": {},
   "outputs": [],
   "source": [
    "file = open(os.path.join(\"data\", \"perturbed_ds_10.pkl\"),'rb')\n",
    "data = pickle.load(file)\n",
    "file.close()\n",
    "p_data_loader = torch.utils.data.DataLoader(P_MNIST(data[\"image\"].astype(float), data[\"label\"]), batch_size=1024)"
   ]
  },
  {
   "cell_type": "code",
   "execution_count": 7,
   "metadata": {},
   "outputs": [
    {
     "data": {
      "text/plain": [
       "(10000, 1, 28, 28)"
      ]
     },
     "execution_count": 7,
     "metadata": {},
     "output_type": "execute_result"
    }
   ],
   "source": [
    "data[\"image\"].shape"
   ]
  },
  {
   "cell_type": "code",
   "execution_count": 8,
   "metadata": {},
   "outputs": [
    {
     "name": "stderr",
     "output_type": "stream",
     "text": [
      "/home/katie/miniconda3/envs/cifar10/lib/python3.7/site-packages/torchvision/models/_utils.py:209: UserWarning: The parameter 'pretrained' is deprecated since 0.13 and may be removed in the future, please use 'weights' instead.\n",
      "  f\"The parameter '{pretrained_param}' is deprecated since 0.13 and may be removed in the future, \"\n",
      "/home/katie/miniconda3/envs/cifar10/lib/python3.7/site-packages/torchvision/models/_utils.py:223: UserWarning: Arguments other than a weight enum or `None` for 'weights' are deprecated since 0.13 and may be removed in the future. The current behavior is equivalent to passing `weights=ResNet18_Weights.IMAGENET1K_V1`. You can also use `weights=ResNet18_Weights.DEFAULT` to get the most up-to-date weights.\n",
      "  warnings.warn(msg)\n"
     ]
    }
   ],
   "source": [
    "test_outputs = []\n",
    "for batch_idx, (data, target) in enumerate(test_loader):\n",
    "    data, target = data.cuda().float(), target.cuda().long()\n",
    "    output = model(data)\n",
    "    output = torch.e**output\n",
    "    test_outputs.append(output.detach().cpu().numpy())\n",
    "test_outputs = np.concatenate(test_outputs, axis=0)\n",
    "\n",
    "test_features = get_imagenet_features(test_loader, UTKFace=True)"
   ]
  },
  {
   "cell_type": "code",
   "execution_count": 9,
   "metadata": {},
   "outputs": [],
   "source": [
    "p_outputs = []\n",
    "for batch_idx, (data, target) in enumerate(p_data_loader):\n",
    "    data, target = data.cuda().float(), target.cuda().long()\n",
    "    output = model(data)\n",
    "    output = torch.e**output\n",
    "    p_outputs.append(output.detach().cpu().numpy())\n",
    "p_outputs = np.concatenate(p_outputs, axis=0)\n",
    "p_features = get_imagenet_features(p_data_loader, UTKFace=True)"
   ]
  },
  {
   "cell_type": "code",
   "execution_count": 10,
   "metadata": {},
   "outputs": [],
   "source": [
    "from sklearn.linear_model import SGDClassifier\n",
    "from sklearn.preprocessing import StandardScaler \n",
    "from sklearn.pipeline import make_pipeline\n",
    "\n",
    "idxs = np.random.permutation(10000)\n",
    "val_features = test_features[idxs]\n",
    "val_features_train = val_features[1000:]\n",
    "\n",
    "ood_features = p_features\n",
    "idxs = np.random.permutation(10000)\n",
    "ood_features = ood_features[idxs]\n",
    "ood_features_train = ood_features[1000:]\n",
    "\n",
    "X = np.concatenate((val_features_train, ood_features_train), axis=0)\n",
    "y = np.concatenate((np.ones(9000), np.zeros(9000)), axis=0)\n",
    "\n",
    "scores = []\n",
    "for _ in range(30):\n",
    "    clf = make_pipeline(StandardScaler(), SGDClassifier(loss=\"log\", max_iter=20, alpha=10))\n",
    "    clf.fit(X, y)\n",
    "    score = clf.predict_log_proba(ood_features[:1000])[:, 0].mean()\n",
    "    scores.append(score)\n",
    "ood_score = (np.mean(scores))"
   ]
  },
  {
   "cell_type": "code",
   "execution_count": 11,
   "metadata": {},
   "outputs": [],
   "source": [
    "ood_score = np.e**ood_score"
   ]
  },
  {
   "cell_type": "code",
   "execution_count": 12,
   "metadata": {},
   "outputs": [
    {
     "name": "stderr",
     "output_type": "stream",
     "text": [
      "/home/katie/miniconda3/envs/cifar10/lib/python3.7/site-packages/ipykernel_launcher.py:3: RuntimeWarning: divide by zero encountered in log\n",
      "  This is separate from the ipykernel package so we can avoid doing imports until\n"
     ]
    }
   ],
   "source": [
    "class_probs = [0.1 for _ in range(10)]\n",
    "test_dist_from_f_start = (np.sum(test_outputs*np.clip(np.log(test_outputs/np.expand_dims(class_probs, axis=0)), -9999, 9999), axis=-1).mean())\n",
    "p_dist_from_f_start = (np.sum(p_outputs*np.clip(np.log(p_outputs/np.expand_dims(class_probs, axis=0)), -9999900, 9999900), axis=-1).mean())"
   ]
  },
  {
   "cell_type": "code",
   "execution_count": 13,
   "metadata": {},
   "outputs": [
    {
     "name": "stderr",
     "output_type": "stream",
     "text": [
      "/home/katie/miniconda3/envs/cifar10/lib/python3.7/site-packages/ipykernel_launcher.py:8: MatplotlibDeprecationWarning: Support for setting an rcParam that expects a str value to a non-str value is deprecated since 3.5 and support will be removed two minor releases later.\n",
      "  \n"
     ]
    },
    {
     "data": {
      "text/plain": [
       "(0.45, 0.9)"
      ]
     },
     "execution_count": 13,
     "metadata": {},
     "output_type": "execute_result"
    },
    {
     "data": {
      "image/png": "[encoded data removed]",
      "text/plain": [
       "<Figure size 640x480 with 1 Axes>"
      ]
     },
     "metadata": {},
     "output_type": "display_data"
    },
    {
     "ename": "",
     "evalue": "",
     "output_type": "error",
     "traceback": [
      "\u001b[1;31mThe Kernel crashed while executing code in the the current cell or a previous cell. Please review the code in the cell(s) to identify a possible cause of the failure. Click <a href='https://aka.ms/vscodeJupyterKernelCrash'>here</a> for more info. View Jupyter <a href='command:jupyter.viewOutput'>log</a> for further details."
     ]
    }
   ],
   "source": [
    "import matplotlib.pyplot as plt\n",
    "\n",
    "import matplotlib as mpl\n",
    "from matplotlib import rc\n",
    "\n",
    "rc('font', **{'family': 'serif', 'serif': ['Computer Modern']})\n",
    "rc('text', usetex=True)\n",
    "mpl.rcParams['text.latex.preamble'] = [r'\\boldmath']\n",
    "\n",
    "colors=[\"C3\", \"C0\", \"C1\", \"C2\", \"C4\", \"C5\", \"C6\", \"C7\", \"C8\", \"C9\"]\n",
    "\n",
    "plt.errorbar([0.5], [test_dist_from_f_start], yerr=[0], fmt='*', markersize=50, zorder=100, alpha=0.8, color=colors[0])\n",
    "plt.errorbar([ood_score], [p_dist_from_f_start], yerr=[0], fmt=\"o\", markersize=20, alpha=0.8, color=colors[1])\n",
    "\n",
    "\n",
    "plt.xlabel(r\"\\textbf{OOD Score}\", fontsize=40)\n",
    "plt.ylabel(r\"$\\textbf{Dist. to OCS}$\", fontsize=40)\n",
    "plt.title(r\"\\textbf{Adversarial MNIST (CE)}\", fontsize=40)\n",
    "plt.yticks([2.29+_*0.005 for _ in range(7)], [r\"\\textbf{\"+str(2.29+_*0.005)+\"}\" for _ in range(7)], fontsize=20)\n",
    "plt.xticks([0.5+0.1*_ for _ in range(10)], [r\"\\textbf{%.2f}\"%(0.5+0.1*_) for _ in range(10)], fontsize=20)\n",
    "plt.ylim([2.288, 2.304])\n",
    "plt.xlim([0.45, 0.9])"
   ]
  },
  {
   "cell_type": "code",
   "execution_count": null,
   "metadata": {},
   "outputs": [],
   "source": []
  }
 ],
 "metadata": {
  "kernelspec": {
   "display_name": "cifar10",
   "language": "python",
   "name": "python3"
  },
  "language_info": {
   "codemirror_mode": {
    "name": "ipython",
    "version": 3
   },
   "file_extension": ".py",
   "mimetype": "text/x-python",
   "name": "python",
   "nbconvert_exporter": "python",
   "pygments_lexer": "ipython3",
   "version": "3.7.16"
  },
  "orig_nbformat": 4
 },
 "nbformat": 4,
 "nbformat_minor": 2
}
