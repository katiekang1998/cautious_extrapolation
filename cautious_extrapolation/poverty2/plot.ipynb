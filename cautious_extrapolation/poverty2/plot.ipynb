{
 "cells": [
  {
   "cell_type": "code",
   "execution_count": 1,
   "metadata": {},
   "outputs": [
    {
     "name": "stderr",
     "output_type": "stream",
     "text": [
      "/home/katie/miniconda3/envs/cifar10/lib/python3.7/site-packages/tqdm/auto.py:21: TqdmWarning: IProgress not found. Please update jupyter and ipywidgets. See https://ipywidgets.readthedocs.io/en/stable/user_install.html\n",
      "  from .autonotebook import tqdm as notebook_tqdm\n"
     ]
    }
   ],
   "source": [
    "import pickle\n",
    "import matplotlib.pyplot as plt\n",
    "import numpy as np\n",
    "import os\n",
    "\n",
    "import torch\n",
    "import torch.nn as nn\n",
    "import torch.nn.parallel\n",
    "import torch.backends.cudnn as cudnn\n",
    "import torch.optim\n",
    "import torch.utils.data\n",
    "import torchvision.transforms as transforms\n",
    "import torchvision.datasets as datasets\n",
    "import numpy as np\n",
    "import pickle\n",
    "from cautious_extrapolation.data_paths import DATA_PATHS \n",
    "from cautious_extrapolation.utils import get_imagenet_features\n",
    "from sklearn.linear_model import SGDClassifier\n",
    "from sklearn.preprocessing import StandardScaler\n",
    "from sklearn.pipeline import make_pipeline\n",
    "from wilds import get_dataset"
   ]
  },
  {
   "cell_type": "code",
   "execution_count": 21,
   "metadata": {},
   "outputs": [
    {
     "name": "stdout",
     "output_type": "stream",
     "text": [
      "(3963,)\n",
      "(3963,)\n",
      "(3963,)\n"
     ]
    }
   ],
   "source": [
    "dir_path = os.path.dirname(os.path.abspath(\"__file__\"))\n",
    "test_countries = ['train', 'benin', 'burkina_faso', 'guinea', 'sierra_leone', 'tanzania', 'angola', 'cote_d_ivoire', 'ethiopia', 'mali', 'rwanda']\n",
    "# ood_countries = [\"angola\", \"cote_d_ivoire\", \"mali\", \"benin\", \"burkina_faso\", \"guinea\", \"tanzania\"]\n",
    "ood_countries = _SURVEY_NAMES_2009_17A[\"test\"] #['rwanda']\n",
    "\n",
    "run_names = [\"seed1_2023_06_02_11_50_14\",\n",
    "             \"seed2_2023_06_02_12_07_54\",\n",
    "             \"seed3_2023_06_02_12_08_17\"]\n",
    "\n",
    "mses_all = []\n",
    "std_squared_errors_all = []\n",
    "preds_all = []\n",
    "std_all = []\n",
    "for run_name in run_names:\n",
    "    with open(os.path.join(dir_path, \"data\", run_name, \"outputs.pkl\"), 'rb') as f:\n",
    "        data = pickle.load(f)\n",
    "\n",
    "    mses = []\n",
    "    std_squared_errors = []\n",
    "    preds = []\n",
    "    stds = []\n",
    "    for country in ood_countries:\n",
    "        preds.append((data[country][:, 0]))\n",
    "        mses.append((data[country][:, 2]))\n",
    "        std_squared_errors.append(((data[country][:, 1]-0.8)**2))\n",
    "        stds.append((data[country][:, 1]))\n",
    "    # mses_all.append(mses)\n",
    "    # std_squared_errors_all.append(std_squared_errors)\n",
    "    preds_all.append(np.concatenate(preds))\n",
    "    print(np.concatenate(mses).shape)\n",
    "    mses_all.append(np.concatenate(mses))\n",
    "    std_squared_errors_all.append(np.concatenate(std_squared_errors))\n",
    "    std_all.append(np.concatenate(stds))\n"
   ]
  },
  {
   "cell_type": "code",
   "execution_count": 53,
   "metadata": {},
   "outputs": [
    {
     "data": {
      "text/plain": [
       "[array([-0.1578536 ,  0.60934901,  0.03772705, ...,  1.21454036,\n",
       "         1.46110475,  0.02271853]),\n",
       " array([-0.12221167,  0.41588151,  0.21188606, ...,  1.16586649,\n",
       "         1.23527527, -0.09255507]),\n",
       " array([-0.02572913,  0.40795231,  0.27472875, ...,  1.25550628,\n",
       "         1.20572376,  0.12247549])]"
      ]
     },
     "execution_count": 53,
     "metadata": {},
     "output_type": "execute_result"
    }
   ],
   "source": [
    "preds_all"
   ]
  },
  {
   "cell_type": "code",
   "execution_count": 23,
   "metadata": {},
   "outputs": [
    {
     "data": {
      "text/plain": [
       "<matplotlib.lines.Line2D at 0x7f2ff9d76310>"
      ]
     },
     "execution_count": 23,
     "metadata": {},
     "output_type": "execute_result"
    },
    {
     "data": {
      "image/png": "[encoded data removed]",
      "text/plain": [
       "<Figure size 640x480 with 1 Axes>"
      ]
     },
     "metadata": {},
     "output_type": "display_data"
    }
   ],
   "source": [
    "plt.hist((data[\"train\"][:, 0] - 0.1227)**2, alpha=0.5, label=\"train\", density=True)\n",
    "#plot vertical line of mean\n",
    "plt.axvline(np.median((data[\"train\"][:, 0] - 0.1227)**2), color=\"C0\", linestyle='dashed', linewidth=1)\n",
    "plt.hist((np.array(preds_all[2])-0.1227)**2, alpha=0.5, label=\"test\", density=True)\n",
    "plt.axvline(np.median((np.array(preds_all[2])-0.1227)**2), color='C1', linestyle='dashed', linewidth=1)"
   ]
  },
  {
   "cell_type": "code",
   "execution_count": 22,
   "metadata": {},
   "outputs": [
    {
     "name": "stdout",
     "output_type": "stream",
     "text": [
      "0.209138797362513\n",
      "0.279309062682478\n"
     ]
    },
    {
     "data": {
      "image/png": "[encoded data removed]",
      "text/plain": [
       "<Figure size 640x480 with 1 Axes>"
      ]
     },
     "metadata": {},
     "output_type": "display_data"
    }
   ],
   "source": [
    "plt.hist(data[\"train\"][:, 2], alpha=0.5, label=\"train\", density=True)\n",
    "#plot vertical line of mean\n",
    "plt.axvline(np.mean(data[\"train\"][:, 2]), color=\"C0\", linestyle='dashed', linewidth=1)\n",
    "print(np.mean(data[\"train\"][:, 2]))\n",
    "plt.hist((np.array(mses_all[2])), alpha=0.5, label=\"test\", density=True)\n",
    "plt.axvline(np.mean((np.array(mses_all[2]))), color='C1', linestyle='dashed', linewidth=1)\n",
    "print(np.mean((np.array(mses_all[2]))))\n"
   ]
  },
  {
   "cell_type": "code",
   "execution_count": null,
   "metadata": {},
   "outputs": [],
   "source": [
    "ood_countries = [\"angola\", \"cote_d_ivoire\", \"mali\", \"benin\", \"burkina_faso\", \"guinea\", \"tanzania\"]\n",
    "\n",
    "\n",
    "\n",
    "for country in ood_countries:\n",
    "    \n",
    "#     angola\n",
    "# cote_d_ivoire\n",
    "# mali\n",
    "# benin\n",
    "# burkina_faso\n",
    "# guinea\n",
    "# tanzania\n"
   ]
  },
  {
   "cell_type": "code",
   "execution_count": 69,
   "metadata": {},
   "outputs": [
    {
     "data": {
      "text/plain": [
       "<matplotlib.legend.Legend at 0x7f834062d110>"
      ]
     },
     "execution_count": 69,
     "metadata": {},
     "output_type": "execute_result"
    },
    {
     "data": {
      "image/png": "[encoded data removed]",
      "text/plain": [
       "<Figure size 640x480 with 1 Axes>"
      ]
     },
     "metadata": {},
     "output_type": "display_data"
    }
   ],
   "source": [
    "mses_all = np.array(mses_all)\n",
    "std_squared_errors_all = np.array(std_squared_errors_all)\n",
    "\n",
    "for i in range(len(ood_countries)):\n",
    "    plt.scatter(np.sqrt(mses_all[:, i].mean()), std_squared_errors_all[:, i].mean(), label=ood_countries[i])\n",
    "# plt.scatter(np.sqrt(mses_all.mean(axis=0)), std_squared_errors_all.mean(axis=0))\n",
    "plt.legend()"
   ]
  },
  {
   "cell_type": "code",
   "execution_count": 22,
   "metadata": {},
   "outputs": [
    {
     "data": {
      "text/plain": [
       "<matplotlib.collections.PathCollection at 0x7f446f7bc4d0>"
      ]
     },
     "execution_count": 22,
     "metadata": {},
     "output_type": "execute_result"
    },
    {
     "data": {
      "image/png": "[encoded data removed]",
      "text/plain": [
       "<Figure size 640x480 with 1 Axes>"
      ]
     },
     "metadata": {},
     "output_type": "display_data"
    }
   ],
   "source": [
    "plt.scatter([data[\"train\"][:, 2].mean()], np.mean((data[\"train\"][:, 1]-0.8)**2))\n",
    "plt.scatter(mses, stds)"
   ]
  },
  {
   "cell_type": "code",
   "execution_count": 12,
   "metadata": {},
   "outputs": [],
   "source": [
    "dataset = get_dataset(dataset=\"poverty\", download=True, root_dir=DATA_PATHS[\"nfs\"][\"poverty\"])"
   ]
  },
  {
   "cell_type": "code",
   "execution_count": 13,
   "metadata": {},
   "outputs": [
    {
     "name": "stderr",
     "output_type": "stream",
     "text": [
      "/home/katie/miniconda3/envs/cifar10/lib/python3.7/site-packages/torchvision/models/_utils.py:209: UserWarning: The parameter 'pretrained' is deprecated since 0.13 and may be removed in the future, please use 'weights' instead.\n",
      "  f\"The parameter '{pretrained_param}' is deprecated since 0.13 and may be removed in the future, \"\n",
      "/home/katie/miniconda3/envs/cifar10/lib/python3.7/site-packages/torchvision/models/_utils.py:223: UserWarning: Arguments other than a weight enum or `None` for 'weights' are deprecated since 0.13 and may be removed in the future. The current behavior is equivalent to passing `weights=ResNet18_Weights.IMAGENET1K_V1`. You can also use `weights=ResNet18_Weights.DEFAULT` to get the most up-to-date weights.\n",
      "  warnings.warn(msg)\n"
     ]
    }
   ],
   "source": [
    "features_dict= {}\n",
    "val_data = dataset.get_subset(\n",
    "    \"id_val\")\n",
    "\n",
    "val_loader = torch.utils.data.DataLoader(\n",
    "    val_data,\n",
    "    batch_size=64, shuffle=True,\n",
    "    num_workers=4, pin_memory=True)\n",
    "\n",
    "train_features = get_imagenet_features(val_loader, poverty=True)\n",
    "features_dict[\"train\"] = train_features"
   ]
  },
  {
   "cell_type": "code",
   "execution_count": 14,
   "metadata": {},
   "outputs": [
    {
     "name": "stdout",
     "output_type": "stream",
     "text": [
      "benin\n",
      "burkina_faso\n",
      "guinea\n",
      "sierra_leone\n",
      "tanzania\n",
      "angola\n",
      "cote_d_ivoire\n",
      "ethiopia\n",
      "mali\n",
      "rwanda\n"
     ]
    }
   ],
   "source": [
    "test_countries = ['benin', 'burkina_faso', 'guinea', 'sierra_leone', 'tanzania', 'angola', 'cote_d_ivoire', 'ethiopia', 'mali', 'rwanda']\n",
    "\n",
    "for country in test_countries:\n",
    "    print(country)\n",
    "    country_metadata_idx = dataset._metadata_map[\"country\"].index(country)\n",
    "    country_idxs = np.where(dataset._metadata_array[:, 2] == country_metadata_idx)\n",
    "    country_data = torch.utils.data.Subset(dataset, country_idxs[0])\n",
    "    country_loader = torch.utils.data.DataLoader(\n",
    "        country_data,\n",
    "        batch_size=64, shuffle=True,\n",
    "        num_workers=4, pin_memory=True)\n",
    "    features_dict[country] = get_imagenet_features(country_loader, poverty=True)"
   ]
  },
  {
   "cell_type": "code",
   "execution_count": 16,
   "metadata": {},
   "outputs": [
    {
     "data": {
      "text/plain": [
       "['benin',\n",
       " 'burkina_faso',\n",
       " 'guinea',\n",
       " 'sierra_leone',\n",
       " 'tanzania',\n",
       " 'angola',\n",
       " 'cote_d_ivoire',\n",
       " 'ethiopia',\n",
       " 'mali',\n",
       " 'rwanda']"
      ]
     },
     "execution_count": 16,
     "metadata": {},
     "output_type": "execute_result"
    }
   ],
   "source": [
    "test_countries"
   ]
  },
  {
   "cell_type": "code",
   "execution_count": 23,
   "metadata": {},
   "outputs": [
    {
     "name": "stdout",
     "output_type": "stream",
     "text": [
      "benin\n",
      "burkina_faso\n",
      "guinea\n",
      "sierra_leone\n",
      "tanzania\n",
      "angola\n",
      "cote_d_ivoire\n",
      "ethiopia\n",
      "mali\n",
      "rwanda\n"
     ]
    }
   ],
   "source": [
    "ood_scores_all = []\n",
    "\n",
    "for country in test_countries:\n",
    "    print(country)\n",
    "    cutoff = min(len(features_dict[country]), len(features_dict[\"train\"]))\n",
    "    ood_features = features_dict[country][:cutoff]\n",
    "    val_features = features_dict[\"train\"][:cutoff]\n",
    "    X = np.concatenate((val_features, ood_features), axis=0)\n",
    "    y = np.concatenate((np.ones(cutoff), np.zeros(cutoff)), axis=0)\n",
    "    idxs = np.random.permutation(2*cutoff)\n",
    "    X = X[idxs]\n",
    "    y = y[idxs]\n",
    "\n",
    "    scores = []\n",
    "    for _ in range(10):\n",
    "        clf = make_pipeline(StandardScaler(), SGDClassifier(max_iter=20, alpha=30))\n",
    "        clf.fit(X[int(0.2*cutoff):], y[int(0.2*cutoff):])\n",
    "        score = clf.score(X[:int(0.2*len(ood_features))], y[:int(0.2*len(ood_features))])\n",
    "        scores.append(score)\n",
    "    ood_scores_all.append(np.mean(scores))"
   ]
  },
  {
   "cell_type": "code",
   "execution_count": 30,
   "metadata": {},
   "outputs": [
    {
     "name": "stdout",
     "output_type": "stream",
     "text": [
      "benin\n",
      "burkina_faso\n",
      "guinea\n",
      "sierra_leone\n",
      "tanzania\n",
      "angola\n",
      "cote_d_ivoire\n",
      "ethiopia\n",
      "mali\n",
      "rwanda\n"
     ]
    }
   ],
   "source": [
    "ood_scores_all = []\n",
    "\n",
    "for country in test_countries:\n",
    "    print(country)\n",
    "    cutoff = int(min(len(features_dict[country]), len(features_dict[\"train\"]))*0.8)\n",
    "    ood_features = features_dict[country][:cutoff]\n",
    "    val_features = features_dict[\"train\"][:cutoff]\n",
    "    X = np.concatenate((val_features, ood_features), axis=0)\n",
    "    y = np.concatenate((np.ones(cutoff), np.zeros(cutoff)), axis=0)\n",
    "    idxs = np.random.permutation(2*cutoff)\n",
    "    X = X[idxs]\n",
    "    y = y[idxs]\n",
    "\n",
    "    scores = []\n",
    "    for _ in range(10):\n",
    "        clf = make_pipeline(StandardScaler(), SGDClassifier(max_iter=20, alpha=20))\n",
    "        clf.fit(X, y)\n",
    "        score = clf.score(features_dict[country][cutoff:], np.zeros(len(features_dict[country][cutoff:])))\n",
    "        scores.append(score)\n",
    "    ood_scores_all.append(np.mean(scores))"
   ]
  },
  {
   "cell_type": "code",
   "execution_count": 31,
   "metadata": {},
   "outputs": [
    {
     "data": {
      "text/plain": [
       "[0.7733333333333334,\n",
       " 0.740506329113924,\n",
       " 0.5566666666666666,\n",
       " 0.8781609195402298,\n",
       " 0.5800953516090585,\n",
       " 0.6,\n",
       " 0.5463768115942028,\n",
       " 0.6211195928753181,\n",
       " 0.6974576271186441,\n",
       " 0.749238578680203]"
      ]
     },
     "execution_count": 31,
     "metadata": {},
     "output_type": "execute_result"
    }
   ],
   "source": [
    "ood_scores_all"
   ]
  },
  {
   "cell_type": "code",
   "execution_count": 32,
   "metadata": {},
   "outputs": [
    {
     "data": {
      "text/plain": [
       "<matplotlib.collections.PathCollection at 0x7f446f5dfb50>"
      ]
     },
     "execution_count": 32,
     "metadata": {},
     "output_type": "execute_result"
    },
    {
     "data": {
      "image/png": "[encoded data removed]",
      "text/plain": [
       "<Figure size 640x480 with 1 Axes>"
      ]
     },
     "metadata": {},
     "output_type": "display_data"
    }
   ],
   "source": [
    "plt.scatter([0.5], ((data[\"train\"][:, 1]-0.8)**2).mean())\n",
    "plt.scatter(ood_scores_all, stds)"
   ]
  },
  {
   "cell_type": "code",
   "execution_count": 41,
   "metadata": {},
   "outputs": [],
   "source": [
    "test_data = dataset.get_subset(\n",
    "    \"val\")\n",
    "\n",
    "test_loader = torch.utils.data.DataLoader(\n",
    "    test_data,\n",
    "    batch_size=64, shuffle=True,\n",
    "    num_workers=4, pin_memory=True)"
   ]
  },
  {
   "cell_type": "code",
   "execution_count": 42,
   "metadata": {},
   "outputs": [],
   "source": [
    "ys = []\n",
    "for (x, y, _) in test_loader:\n",
    "    ys.append(y)"
   ]
  },
  {
   "cell_type": "code",
   "execution_count": 43,
   "metadata": {},
   "outputs": [],
   "source": [
    "ys = np.concatenate(ys, axis=0)"
   ]
  },
  {
   "cell_type": "code",
   "execution_count": 44,
   "metadata": {},
   "outputs": [
    {
     "data": {
      "text/plain": [
       "(array([ 337., 1228.,  922.,  421.,  312.,  300.,  267.,   99.,   17.,\n",
       "           6.]),\n",
       " array([-1.1444261 , -0.7708421 , -0.39725804, -0.02367401,  0.34991002,\n",
       "         0.72349405,  1.0970781 ,  1.4706621 ,  1.8442461 ,  2.2178302 ,\n",
       "         2.5914142 ], dtype=float32),\n",
       " <BarContainer object of 10 artists>)"
      ]
     },
     "execution_count": 44,
     "metadata": {},
     "output_type": "execute_result"
    },
    {
     "data": {
      "image/png": "[encoded data removed]",
      "text/plain": [
       "<Figure size 640x480 with 1 Axes>"
      ]
     },
     "metadata": {},
     "output_type": "display_data"
    }
   ],
   "source": [
    "plt.hist(ys.squeeze())"
   ]
  },
  {
   "cell_type": "code",
   "execution_count": 45,
   "metadata": {},
   "outputs": [
    {
     "data": {
      "text/plain": [
       "-0.04333939"
      ]
     },
     "execution_count": 45,
     "metadata": {},
     "output_type": "execute_result"
    }
   ],
   "source": [
    "ys.mean()"
   ]
  },
  {
   "cell_type": "code",
   "execution_count": 4,
   "metadata": {},
   "outputs": [],
   "source": [
    "dataset = get_dataset(dataset=\"poverty\", download=True, root_dir=DATA_PATHS[\"nfs\"][\"poverty\"])\n",
    "train_data = dataset.get_subset(\n",
    "    \"train\")\n",
    "\n",
    "id_val_data = dataset.get_subset(\"id_val\")\n",
    "\n",
    "test_data = dataset.get_subset(\"test\")\n",
    "\n",
    "val_data = dataset.get_subset(\"val\")\n",
    "\n",
    "# val_loader = torch.utils.data.DataLoader(\n",
    "#     val_data,\n",
    "#     batch_size=64, shuffle=True,\n",
    "#     num_workers=4, pin_memory=True)"
   ]
  },
  {
   "cell_type": "code",
   "execution_count": 6,
   "metadata": {},
   "outputs": [
    {
     "data": {
      "text/plain": [
       "array([ 2390,  2391,  2392, ..., 19665, 19666, 19667])"
      ]
     },
     "execution_count": 6,
     "metadata": {},
     "output_type": "execute_result"
    }
   ],
   "source": [
    "train_data.indices"
   ]
  },
  {
   "cell_type": "code",
   "execution_count": 31,
   "metadata": {},
   "outputs": [
    {
     "data": {
      "text/plain": [
       "<matplotlib.legend.Legend at 0x7f834cd73d90>"
      ]
     },
     "execution_count": 31,
     "metadata": {},
     "output_type": "execute_result"
    },
    {
     "data": {
      "image/png": "[encoded data removed]",
      "text/plain": [
       "<Figure size 640x480 with 1 Axes>"
      ]
     },
     "metadata": {},
     "output_type": "display_data"
    }
   ],
   "source": [
    "plt.hist(dataset._y_array[train_data.indices].squeeze(), alpha=0.5, label=\"train\")\n",
    "plt.axvline(dataset._y_array[train_data.indices].squeeze().mean(), color='C0', linestyle='dashed', linewidth=1)\n",
    "plt.hist(dataset._y_array[id_val_data.indices].squeeze(), alpha=0.5, label=\"id_val\")\n",
    "plt.axvline(dataset._y_array[id_val_data.indices].squeeze().mean(), color='C1', linestyle='dashed', linewidth=1)\n",
    "plt.hist(dataset._y_array[ood_idxs].squeeze(), alpha=0.5, label=\"val\")\n",
    "plt.axvline(dataset._y_array[ood_idxs].squeeze().mean(), color='C2', linestyle='dashed', linewidth=1)\n",
    "# plt.hist(dataset._y_array[test_data.indices].squeeze(), alpha=0.5, label=\"test\")\n",
    "# plt.axvline(dataset._y_array[test_data.indices].squeeze().mean(), color='C3', linestyle='dashed', linewidth=1)\n",
    "plt.legend()"
   ]
  },
  {
   "cell_type": "code",
   "execution_count": 42,
   "metadata": {},
   "outputs": [
    {
     "data": {
      "text/plain": [
       "tensor(0.1227)"
      ]
     },
     "execution_count": 42,
     "metadata": {},
     "output_type": "execute_result"
    }
   ],
   "source": [
    "dataset._y_array[train_data.indices].squeeze().mean()"
   ]
  },
  {
   "cell_type": "code",
   "execution_count": 30,
   "metadata": {},
   "outputs": [
    {
     "name": "stdout",
     "output_type": "stream",
     "text": [
      "angola\n",
      "cote_d_ivoire\n",
      "mali\n",
      "benin\n",
      "burkina_faso\n",
      "guinea\n",
      "tanzania\n"
     ]
    }
   ],
   "source": [
    "from wilds.datasets.poverty_dataset import _SURVEY_NAMES_2009_17A\n",
    "ood_countries = (_SURVEY_NAMES_2009_17A[\"test\"] + _SURVEY_NAMES_2009_17A[\"val\"])\n",
    "ood_countries.remove(\"rwanda\")\n",
    "ood_countries.remove(\"ethiopia\")\n",
    "ood_countries.remove(\"sierra_leone\")\n",
    "\n",
    "\n",
    "ood_idxs = []\n",
    "for country in ood_countries:\n",
    "    print(country)\n",
    "    country_metadata_idx = dataset._metadata_map[\"country\"].index(country)\n",
    "    country_idxs = np.where(dataset._metadata_array[:, 2] == country_metadata_idx)\n",
    "    ood_idxs += list(country_idxs[0])\n",
    "    # country_data = torch.utils.data.Subset(dataset, country_idxs[0])\n",
    "    # print(dataset._y_array[country_idxs].squeeze().mean())"
   ]
  },
  {
   "cell_type": "code",
   "execution_count": 11,
   "metadata": {},
   "outputs": [
    {
     "name": "stdout",
     "output_type": "stream",
     "text": [
      "benin\n",
      "tensor(0.2006)\n",
      "burkina_faso\n",
      "tensor(-0.1113)\n",
      "guinea\n",
      "tensor(0.1011)\n",
      "sierra_leone\n",
      "tensor(-0.1597)\n",
      "tanzania\n",
      "tensor(-0.1172)\n",
      "angola\n",
      "tensor(0.2305)\n",
      "cote_d_ivoire\n",
      "tensor(0.4778)\n",
      "ethiopia\n",
      "tensor(-0.3384)\n",
      "mali\n",
      "tensor(0.2840)\n",
      "rwanda\n",
      "tensor(-0.3437)\n"
     ]
    }
   ],
   "source": [
    "test_countries = ['benin', 'burkina_faso', 'guinea', 'sierra_leone', 'tanzania', 'angola', 'cote_d_ivoire', 'ethiopia', 'mali', 'rwanda']\n",
    "\n",
    "for country in test_countries:\n",
    "    print(country)\n",
    "    country_metadata_idx = dataset._metadata_map[\"country\"].index(country)\n",
    "    country_idxs = np.where(dataset._metadata_array[:, 2] == country_metadata_idx)\n",
    "    # country_data = torch.utils.data.Subset(dataset, country_idxs[0])\n",
    "    print(dataset._y_array[country_idxs].squeeze().mean())"
   ]
  },
  {
   "cell_type": "code",
   "execution_count": 16,
   "metadata": {},
   "outputs": [],
   "source": [
    "from wilds.datasets.poverty_dataset import _SURVEY_NAMES_2009_17A"
   ]
  },
  {
   "cell_type": "code",
   "execution_count": 22,
   "metadata": {},
   "outputs": [],
   "source": [
    "ood_countries = (_SURVEY_NAMES_2009_17A[\"test\"] + _SURVEY_NAMES_2009_17A[\"val\"])"
   ]
  },
  {
   "cell_type": "code",
   "execution_count": 24,
   "metadata": {},
   "outputs": [],
   "source": [
    "ood_countries.remove(\"rwanda\")"
   ]
  },
  {
   "cell_type": "code",
   "execution_count": 25,
   "metadata": {},
   "outputs": [
    {
     "data": {
      "text/plain": [
       "['angola',\n",
       " 'cote_d_ivoire',\n",
       " 'ethiopia',\n",
       " 'mali',\n",
       " 'benin',\n",
       " 'burkina_faso',\n",
       " 'guinea',\n",
       " 'sierra_leone',\n",
       " 'tanzania']"
      ]
     },
     "execution_count": 25,
     "metadata": {},
     "output_type": "execute_result"
    }
   ],
   "source": [
    "ood_countries"
   ]
  },
  {
   "cell_type": "code",
   "execution_count": 17,
   "metadata": {},
   "outputs": [
    {
     "data": {
      "text/plain": [
       "['benin', 'burkina_faso', 'guinea', 'sierra_leone', 'tanzania']"
      ]
     },
     "execution_count": 17,
     "metadata": {},
     "output_type": "execute_result"
    }
   ],
   "source": [
    "_SURVEY_NAMES_2009_17A[\"val\"]"
   ]
  },
  {
   "cell_type": "code",
   "execution_count": null,
   "metadata": {},
   "outputs": [],
   "source": []
  }
 ],
 "metadata": {
  "kernelspec": {
   "display_name": "cifar10",
   "language": "python",
   "name": "python3"
  },
  "language_info": {
   "codemirror_mode": {
    "name": "ipython",
    "version": 3
   },
   "file_extension": ".py",
   "mimetype": "text/x-python",
   "name": "python",
   "nbconvert_exporter": "python",
   "pygments_lexer": "ipython3",
   "version": "3.7.16"
  },
  "orig_nbformat": 4
 },
 "nbformat": 4,
 "nbformat_minor": 2
}
