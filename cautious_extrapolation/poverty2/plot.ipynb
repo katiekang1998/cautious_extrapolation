{
 "cells": [
  {
   "cell_type": "code",
   "execution_count": 2,
   "metadata": {},
   "outputs": [
    {
     "name": "stderr",
     "output_type": "stream",
     "text": [
      "/home/katie/miniconda3/envs/cifar10/lib/python3.7/site-packages/tqdm/auto.py:21: TqdmWarning: IProgress not found. Please update jupyter and ipywidgets. See https://ipywidgets.readthedocs.io/en/stable/user_install.html\n",
      "  from .autonotebook import tqdm as notebook_tqdm\n"
     ]
    }
   ],
   "source": [
    "import pickle\n",
    "import matplotlib.pyplot as plt\n",
    "import numpy as np\n",
    "import os\n",
    "\n",
    "import torch\n",
    "import torch.nn as nn\n",
    "import torch.nn.parallel\n",
    "import torch.backends.cudnn as cudnn\n",
    "import torch.optim\n",
    "import torch.utils.data\n",
    "import torchvision.transforms as transforms\n",
    "import torchvision.datasets as datasets\n",
    "import numpy as np\n",
    "import pickle\n",
    "from cautious_extrapolation.data_paths import DATA_PATHS \n",
    "from cautious_extrapolation.utils import get_imagenet_features, kl_divergence_gaussian\n",
    "from sklearn.linear_model import SGDClassifier\n",
    "from sklearn.preprocessing import StandardScaler\n",
    "from sklearn.pipeline import make_pipeline\n",
    "from wilds import get_dataset"
   ]
  },
  {
   "cell_type": "code",
   "execution_count": 11,
   "metadata": {},
   "outputs": [],
   "source": [
    "dir_path = os.path.dirname(os.path.abspath(\"__file__\"))\n",
    "test_countries = ['train', 'benin', 'burkina_faso', 'guinea', 'sierra_leone', 'tanzania', 'angola', 'cote_d_ivoire', 'ethiopia', 'mali', 'rwanda']\n",
    "\n",
    "\n",
    "run_names = [\"seed1_2023_06_02_11_50_14\",\n",
    "             \"seed2_2023_06_02_12_07_54\",\n",
    "             \"seed3_2023_06_02_12_08_17\"]\n",
    "\n",
    "mses_all = []\n",
    "std_squared_errors_all = []\n",
    "for run_name in run_names:\n",
    "    with open(os.path.join(dir_path, \"data\", run_name, \"outputs.pkl\"), 'rb') as f:\n",
    "        data = pickle.load(f)\n",
    "\n",
    "    mses = []\n",
    "    std_squared_errors = []\n",
    "    for country in test_countries:\n",
    "        mses.append(np.median(data[country][:, 2]))\n",
    "        std_squared_errors.append(np.median((data[country][:, 1]-0.8)**2))\n",
    "    mses_all.append(mses)\n",
    "    std_squared_errors_all.append(std_squared_errors)\n"
   ]
  },
  {
   "cell_type": "code",
   "execution_count": 15,
   "metadata": {},
   "outputs": [
    {
     "data": {
      "text/plain": [
       "<matplotlib.collections.PathCollection at 0x7f70c491d710>"
      ]
     },
     "execution_count": 15,
     "metadata": {},
     "output_type": "execute_result"
    },
    {
     "data": {
      "image/png": "[encoded data removed]",
      "text/plain": [
       "<Figure size 640x480 with 1 Axes>"
      ]
     },
     "metadata": {},
     "output_type": "display_data"
    }
   ],
   "source": [
    "mses_all = np.array(mses_all)\n",
    "std_squared_errors_all = np.array(std_squared_errors_all)\n",
    "plt.scatter(np.sqrt(mses_all.mean(axis=0)), std_squared_errors_all.mean(axis=0))"
   ]
  },
  {
   "cell_type": "code",
   "execution_count": 22,
   "metadata": {},
   "outputs": [
    {
     "data": {
      "text/plain": [
       "<matplotlib.collections.PathCollection at 0x7f446f7bc4d0>"
      ]
     },
     "execution_count": 22,
     "metadata": {},
     "output_type": "execute_result"
    },
    {
     "data": {
      "image/png": "[encoded data removed]",
      "text/plain": [
       "<Figure size 640x480 with 1 Axes>"
      ]
     },
     "metadata": {},
     "output_type": "display_data"
    }
   ],
   "source": [
    "plt.scatter([data[\"train\"][:, 2].mean()], np.mean((data[\"train\"][:, 1]-0.8)**2))\n",
    "plt.scatter(mses, stds)"
   ]
  },
  {
   "cell_type": "code",
   "execution_count": 12,
   "metadata": {},
   "outputs": [],
   "source": [
    "dataset = get_dataset(dataset=\"poverty\", download=True, root_dir=DATA_PATHS[\"nfs\"][\"poverty\"])"
   ]
  },
  {
   "cell_type": "code",
   "execution_count": 13,
   "metadata": {},
   "outputs": [
    {
     "name": "stderr",
     "output_type": "stream",
     "text": [
      "/home/katie/miniconda3/envs/cifar10/lib/python3.7/site-packages/torchvision/models/_utils.py:209: UserWarning: The parameter 'pretrained' is deprecated since 0.13 and may be removed in the future, please use 'weights' instead.\n",
      "  f\"The parameter '{pretrained_param}' is deprecated since 0.13 and may be removed in the future, \"\n",
      "/home/katie/miniconda3/envs/cifar10/lib/python3.7/site-packages/torchvision/models/_utils.py:223: UserWarning: Arguments other than a weight enum or `None` for 'weights' are deprecated since 0.13 and may be removed in the future. The current behavior is equivalent to passing `weights=ResNet18_Weights.IMAGENET1K_V1`. You can also use `weights=ResNet18_Weights.DEFAULT` to get the most up-to-date weights.\n",
      "  warnings.warn(msg)\n"
     ]
    }
   ],
   "source": [
    "features_dict= {}\n",
    "val_data = dataset.get_subset(\n",
    "    \"id_val\")\n",
    "\n",
    "val_loader = torch.utils.data.DataLoader(\n",
    "    val_data,\n",
    "    batch_size=64, shuffle=True,\n",
    "    num_workers=4, pin_memory=True)\n",
    "\n",
    "train_features = get_imagenet_features(val_loader, poverty=True)\n",
    "features_dict[\"train\"] = train_features"
   ]
  },
  {
   "cell_type": "code",
   "execution_count": 14,
   "metadata": {},
   "outputs": [
    {
     "name": "stdout",
     "output_type": "stream",
     "text": [
      "benin\n",
      "burkina_faso\n",
      "guinea\n",
      "sierra_leone\n",
      "tanzania\n",
      "angola\n",
      "cote_d_ivoire\n",
      "ethiopia\n",
      "mali\n",
      "rwanda\n"
     ]
    }
   ],
   "source": [
    "test_countries = ['benin', 'burkina_faso', 'guinea', 'sierra_leone', 'tanzania', 'angola', 'cote_d_ivoire', 'ethiopia', 'mali', 'rwanda']\n",
    "\n",
    "for country in test_countries:\n",
    "    print(country)\n",
    "    country_metadata_idx = dataset._metadata_map[\"country\"].index(country)\n",
    "    country_idxs = np.where(dataset._metadata_array[:, 2] == country_metadata_idx)\n",
    "    country_data = torch.utils.data.Subset(dataset, country_idxs[0])\n",
    "    country_loader = torch.utils.data.DataLoader(\n",
    "        country_data,\n",
    "        batch_size=64, shuffle=True,\n",
    "        num_workers=4, pin_memory=True)\n",
    "    features_dict[country] = get_imagenet_features(country_loader, poverty=True)"
   ]
  },
  {
   "cell_type": "code",
   "execution_count": 16,
   "metadata": {},
   "outputs": [
    {
     "data": {
      "text/plain": [
       "['benin',\n",
       " 'burkina_faso',\n",
       " 'guinea',\n",
       " 'sierra_leone',\n",
       " 'tanzania',\n",
       " 'angola',\n",
       " 'cote_d_ivoire',\n",
       " 'ethiopia',\n",
       " 'mali',\n",
       " 'rwanda']"
      ]
     },
     "execution_count": 16,
     "metadata": {},
     "output_type": "execute_result"
    }
   ],
   "source": [
    "test_countries"
   ]
  },
  {
   "cell_type": "code",
   "execution_count": 23,
   "metadata": {},
   "outputs": [
    {
     "name": "stdout",
     "output_type": "stream",
     "text": [
      "benin\n",
      "burkina_faso\n",
      "guinea\n",
      "sierra_leone\n",
      "tanzania\n",
      "angola\n",
      "cote_d_ivoire\n",
      "ethiopia\n",
      "mali\n",
      "rwanda\n"
     ]
    }
   ],
   "source": [
    "ood_scores_all = []\n",
    "\n",
    "for country in test_countries:\n",
    "    print(country)\n",
    "    cutoff = min(len(features_dict[country]), len(features_dict[\"train\"]))\n",
    "    ood_features = features_dict[country][:cutoff]\n",
    "    val_features = features_dict[\"train\"][:cutoff]\n",
    "    X = np.concatenate((val_features, ood_features), axis=0)\n",
    "    y = np.concatenate((np.ones(cutoff), np.zeros(cutoff)), axis=0)\n",
    "    idxs = np.random.permutation(2*cutoff)\n",
    "    X = X[idxs]\n",
    "    y = y[idxs]\n",
    "\n",
    "    scores = []\n",
    "    for _ in range(10):\n",
    "        clf = make_pipeline(StandardScaler(), SGDClassifier(max_iter=20, alpha=30))\n",
    "        clf.fit(X[int(0.2*cutoff):], y[int(0.2*cutoff):])\n",
    "        score = clf.score(X[:int(0.2*len(ood_features))], y[:int(0.2*len(ood_features))])\n",
    "        scores.append(score)\n",
    "    ood_scores_all.append(np.mean(scores))"
   ]
  },
  {
   "cell_type": "code",
   "execution_count": 30,
   "metadata": {},
   "outputs": [
    {
     "name": "stdout",
     "output_type": "stream",
     "text": [
      "benin\n",
      "burkina_faso\n",
      "guinea\n",
      "sierra_leone\n",
      "tanzania\n",
      "angola\n",
      "cote_d_ivoire\n",
      "ethiopia\n",
      "mali\n",
      "rwanda\n"
     ]
    }
   ],
   "source": [
    "ood_scores_all = []\n",
    "\n",
    "for country in test_countries:\n",
    "    print(country)\n",
    "    cutoff = int(min(len(features_dict[country]), len(features_dict[\"train\"]))*0.8)\n",
    "    ood_features = features_dict[country][:cutoff]\n",
    "    val_features = features_dict[\"train\"][:cutoff]\n",
    "    X = np.concatenate((val_features, ood_features), axis=0)\n",
    "    y = np.concatenate((np.ones(cutoff), np.zeros(cutoff)), axis=0)\n",
    "    idxs = np.random.permutation(2*cutoff)\n",
    "    X = X[idxs]\n",
    "    y = y[idxs]\n",
    "\n",
    "    scores = []\n",
    "    for _ in range(10):\n",
    "        clf = make_pipeline(StandardScaler(), SGDClassifier(max_iter=20, alpha=20))\n",
    "        clf.fit(X, y)\n",
    "        score = clf.score(features_dict[country][cutoff:], np.zeros(len(features_dict[country][cutoff:])))\n",
    "        scores.append(score)\n",
    "    ood_scores_all.append(np.mean(scores))"
   ]
  },
  {
   "cell_type": "code",
   "execution_count": 31,
   "metadata": {},
   "outputs": [
    {
     "data": {
      "text/plain": [
       "[0.7733333333333334,\n",
       " 0.740506329113924,\n",
       " 0.5566666666666666,\n",
       " 0.8781609195402298,\n",
       " 0.5800953516090585,\n",
       " 0.6,\n",
       " 0.5463768115942028,\n",
       " 0.6211195928753181,\n",
       " 0.6974576271186441,\n",
       " 0.749238578680203]"
      ]
     },
     "execution_count": 31,
     "metadata": {},
     "output_type": "execute_result"
    }
   ],
   "source": [
    "ood_scores_all"
   ]
  },
  {
   "cell_type": "code",
   "execution_count": 32,
   "metadata": {},
   "outputs": [
    {
     "data": {
      "text/plain": [
       "<matplotlib.collections.PathCollection at 0x7f446f5dfb50>"
      ]
     },
     "execution_count": 32,
     "metadata": {},
     "output_type": "execute_result"
    },
    {
     "data": {
      "image/png": "[encoded data removed]",
      "text/plain": [
       "<Figure size 640x480 with 1 Axes>"
      ]
     },
     "metadata": {},
     "output_type": "display_data"
    }
   ],
   "source": [
    "plt.scatter([0.5], ((data[\"train\"][:, 1]-0.8)**2).mean())\n",
    "plt.scatter(ood_scores_all, stds)"
   ]
  },
  {
   "cell_type": "code",
   "execution_count": 41,
   "metadata": {},
   "outputs": [],
   "source": [
    "test_data = dataset.get_subset(\n",
    "    \"val\")\n",
    "\n",
    "test_loader = torch.utils.data.DataLoader(\n",
    "    test_data,\n",
    "    batch_size=64, shuffle=True,\n",
    "    num_workers=4, pin_memory=True)"
   ]
  },
  {
   "cell_type": "code",
   "execution_count": 42,
   "metadata": {},
   "outputs": [],
   "source": [
    "ys = []\n",
    "for (x, y, _) in test_loader:\n",
    "    ys.append(y)"
   ]
  },
  {
   "cell_type": "code",
   "execution_count": 43,
   "metadata": {},
   "outputs": [],
   "source": [
    "ys = np.concatenate(ys, axis=0)"
   ]
  },
  {
   "cell_type": "code",
   "execution_count": 44,
   "metadata": {},
   "outputs": [
    {
     "data": {
      "text/plain": [
       "(array([ 337., 1228.,  922.,  421.,  312.,  300.,  267.,   99.,   17.,\n",
       "           6.]),\n",
       " array([-1.1444261 , -0.7708421 , -0.39725804, -0.02367401,  0.34991002,\n",
       "         0.72349405,  1.0970781 ,  1.4706621 ,  1.8442461 ,  2.2178302 ,\n",
       "         2.5914142 ], dtype=float32),\n",
       " <BarContainer object of 10 artists>)"
      ]
     },
     "execution_count": 44,
     "metadata": {},
     "output_type": "execute_result"
    },
    {
     "data": {
      "image/png": "[encoded data removed]",
      "text/plain": [
       "<Figure size 640x480 with 1 Axes>"
      ]
     },
     "metadata": {},
     "output_type": "display_data"
    }
   ],
   "source": [
    "plt.hist(ys.squeeze())"
   ]
  },
  {
   "cell_type": "code",
   "execution_count": 45,
   "metadata": {},
   "outputs": [
    {
     "data": {
      "text/plain": [
       "-0.04333939"
      ]
     },
     "execution_count": 45,
     "metadata": {},
     "output_type": "execute_result"
    }
   ],
   "source": [
    "ys.mean()"
   ]
  },
  {
   "cell_type": "code",
   "execution_count": null,
   "metadata": {},
   "outputs": [],
   "source": []
  }
 ],
 "metadata": {
  "kernelspec": {
   "display_name": "cifar10",
   "language": "python",
   "name": "python3"
  },
  "language_info": {
   "codemirror_mode": {
    "name": "ipython",
    "version": 3
   },
   "file_extension": ".py",
   "mimetype": "text/x-python",
   "name": "python",
   "nbconvert_exporter": "python",
   "pygments_lexer": "ipython3",
   "version": "3.7.16"
  },
  "orig_nbformat": 4
 },
 "nbformat": 4,
 "nbformat_minor": 2
}
